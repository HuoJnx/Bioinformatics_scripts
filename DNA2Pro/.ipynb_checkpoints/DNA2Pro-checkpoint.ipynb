{
 "cells": [
  {
   "cell_type": "code",
   "execution_count": 171,
   "id": "71921544-20a0-4485-95db-041d093081fc",
   "metadata": {},
   "outputs": [],
   "source": [
    "import os, sys\n",
    "\n",
    "##normal pandas\n",
    "import pandas as pd\n",
    "from pandas import DataFrame as DF, Series"
   ]
  },
  {
   "cell_type": "code",
   "execution_count": 189,
   "id": "4ef1b549-1ff4-4ca9-80eb-59c70f5c1895",
   "metadata": {},
   "outputs": [
    {
     "ename": "Exception",
     "evalue": "Not neucletide.",
     "output_type": "error",
     "traceback": [
      "\u001b[0;31m---------------------------------------------------------------------------\u001b[0m",
      "\u001b[0;31mException\u001b[0m                                 Traceback (most recent call last)",
      "\u001b[0;32m/tmp/ipykernel_11293/2553622750.py\u001b[0m in \u001b[0;36m<module>\u001b[0;34m\u001b[0m\n\u001b[1;32m      2\u001b[0m \u001b[0me_list\u001b[0m\u001b[0;34m=\u001b[0m\u001b[0;34m[\u001b[0m\u001b[0;34m\"L\"\u001b[0m\u001b[0;34m]\u001b[0m\u001b[0;34m\u001b[0m\u001b[0;34m\u001b[0m\u001b[0m\n\u001b[1;32m      3\u001b[0m \u001b[0;32mif\u001b[0m \u001b[0;32mnot\u001b[0m \u001b[0many\u001b[0m\u001b[0;34m(\u001b[0m\u001b[0;34m[\u001b[0m \u001b[0;32mTrue\u001b[0m \u001b[0;32mif\u001b[0m \u001b[0me\u001b[0m \u001b[0;32min\u001b[0m \u001b[0min_seq\u001b[0m \u001b[0;32melse\u001b[0m \u001b[0;32mFalse\u001b[0m \u001b[0;32mfor\u001b[0m \u001b[0me\u001b[0m \u001b[0;32min\u001b[0m \u001b[0me_list\u001b[0m\u001b[0;34m]\u001b[0m\u001b[0;34m)\u001b[0m\u001b[0;34m:\u001b[0m\u001b[0;34m\u001b[0m\u001b[0;34m\u001b[0m\u001b[0m\n\u001b[0;32m----> 4\u001b[0;31m     \u001b[0;32mraise\u001b[0m \u001b[0mException\u001b[0m\u001b[0;34m(\u001b[0m\u001b[0;34m\"Not neucletide.\"\u001b[0m\u001b[0;34m)\u001b[0m\u001b[0;34m\u001b[0m\u001b[0;34m\u001b[0m\u001b[0m\n\u001b[0m",
      "\u001b[0;31mException\u001b[0m: Not neucletide."
     ]
    }
   ],
   "source": [
    "# e_list=[\"A\",\"T\",\"C\",\"G\"]\n",
    "e_list = [\"L\"]\n",
    "if not any([True if e in in_seq else False for e in e_list]):\n",
    "    raise Exception(\"Not neucletide.\")"
   ]
  },
  {
   "cell_type": "code",
   "execution_count": 58,
   "id": "2931f48c-52b4-4152-87c3-51f359ccff71",
   "metadata": {},
   "outputs": [
    {
     "data": {
      "text/html": [
       "<div>\n",
       "<style scoped>\n",
       "    .dataframe tbody tr th:only-of-type {\n",
       "        vertical-align: middle;\n",
       "    }\n",
       "\n",
       "    .dataframe tbody tr th {\n",
       "        vertical-align: top;\n",
       "    }\n",
       "\n",
       "    .dataframe thead th {\n",
       "        text-align: right;\n",
       "    }\n",
       "</style>\n",
       "<table border=\"1\" class=\"dataframe\">\n",
       "  <thead>\n",
       "    <tr style=\"text-align: right;\">\n",
       "      <th></th>\n",
       "      <th>codon_0</th>\n",
       "      <th>codon_1</th>\n",
       "      <th>codon_2</th>\n",
       "    </tr>\n",
       "  </thead>\n",
       "  <tbody>\n",
       "    <tr>\n",
       "      <th>0</th>\n",
       "      <td>ATG</td>\n",
       "      <td>TGG</td>\n",
       "      <td>GGA</td>\n",
       "    </tr>\n",
       "    <tr>\n",
       "      <th>1</th>\n",
       "      <td>GAT</td>\n",
       "      <td>ATG</td>\n",
       "      <td>TGC</td>\n",
       "    </tr>\n",
       "    <tr>\n",
       "      <th>2</th>\n",
       "      <td>GCA</td>\n",
       "      <td>CAT</td>\n",
       "      <td>ATA</td>\n",
       "    </tr>\n",
       "    <tr>\n",
       "      <th>3</th>\n",
       "      <td>TAC</td>\n",
       "      <td>ACG</td>\n",
       "      <td>CGA</td>\n",
       "    </tr>\n",
       "    <tr>\n",
       "      <th>4</th>\n",
       "      <td>GAG</td>\n",
       "      <td>AGA</td>\n",
       "      <td>GAT</td>\n",
       "    </tr>\n",
       "    <tr>\n",
       "      <th>5</th>\n",
       "      <td>ATG</td>\n",
       "      <td>TGA</td>\n",
       "      <td>GAG</td>\n",
       "    </tr>\n",
       "    <tr>\n",
       "      <th>6</th>\n",
       "      <td>AGG</td>\n",
       "      <td>GG</td>\n",
       "      <td>G</td>\n",
       "    </tr>\n",
       "  </tbody>\n",
       "</table>\n",
       "</div>"
      ],
      "text/plain": [
       "  codon_0 codon_1 codon_2\n",
       "0     ATG     TGG     GGA\n",
       "1     GAT     ATG     TGC\n",
       "2     GCA     CAT     ATA\n",
       "3     TAC     ACG     CGA\n",
       "4     GAG     AGA     GAT\n",
       "5     ATG     TGA     GAG\n",
       "6     AGG      GG       G"
      ]
     },
     "execution_count": 58,
     "metadata": {},
     "output_type": "execute_result"
    }
   ],
   "source": [
    "in_seq = \"ATGGATGCATACGAGATGAGG\"\n",
    "seq_list = [e for e in in_seq]\n",
    "res_dict = {}\n",
    "\n",
    "# frame shift\n",
    "for start in range(3):\n",
    "    sub_list = seq_list[start:]\n",
    "    o = 0\n",
    "\n",
    "    # get codon\n",
    "    for e in sub_list:\n",
    "        res = sub_list[o : o + 3]\n",
    "        res = \"\".join(res)\n",
    "        if res != \"\":\n",
    "            res_dict.setdefault(\"codon_{}\".format(start), []).append(res)\n",
    "        o += 3\n",
    "df_in = DF(res_dict)\n",
    "df_in"
   ]
  },
  {
   "cell_type": "code",
   "execution_count": 141,
   "id": "9fe05373-3452-45ad-b295-2e12689e4c3c",
   "metadata": {},
   "outputs": [
    {
     "data": {
      "text/html": [
       "<div>\n",
       "<style scoped>\n",
       "    .dataframe tbody tr th:only-of-type {\n",
       "        vertical-align: middle;\n",
       "    }\n",
       "\n",
       "    .dataframe tbody tr th {\n",
       "        vertical-align: top;\n",
       "    }\n",
       "\n",
       "    .dataframe thead th {\n",
       "        text-align: right;\n",
       "    }\n",
       "</style>\n",
       "<table border=\"1\" class=\"dataframe\">\n",
       "  <thead>\n",
       "    <tr style=\"text-align: right;\">\n",
       "      <th></th>\n",
       "      <th>codon</th>\n",
       "      <th>tri_code</th>\n",
       "      <th>sig_code</th>\n",
       "      <th>anmino</th>\n",
       "    </tr>\n",
       "  </thead>\n",
       "  <tbody>\n",
       "    <tr>\n",
       "      <th>0</th>\n",
       "      <td>GCA</td>\n",
       "      <td>Ala</td>\n",
       "      <td>A</td>\n",
       "      <td>Alanine</td>\n",
       "    </tr>\n",
       "    <tr>\n",
       "      <th>1</th>\n",
       "      <td>GCC</td>\n",
       "      <td>Ala</td>\n",
       "      <td>A</td>\n",
       "      <td>Alanine</td>\n",
       "    </tr>\n",
       "    <tr>\n",
       "      <th>2</th>\n",
       "      <td>GCG</td>\n",
       "      <td>Ala</td>\n",
       "      <td>A</td>\n",
       "      <td>Alanine</td>\n",
       "    </tr>\n",
       "    <tr>\n",
       "      <th>3</th>\n",
       "      <td>GCT</td>\n",
       "      <td>Ala</td>\n",
       "      <td>A</td>\n",
       "      <td>Alanine</td>\n",
       "    </tr>\n",
       "    <tr>\n",
       "      <th>4</th>\n",
       "      <td>AAC</td>\n",
       "      <td>Asx</td>\n",
       "      <td>B</td>\n",
       "      <td>Asparagine or Aspartic acid</td>\n",
       "    </tr>\n",
       "    <tr>\n",
       "      <th>...</th>\n",
       "      <td>...</td>\n",
       "      <td>...</td>\n",
       "      <td>...</td>\n",
       "      <td>...</td>\n",
       "    </tr>\n",
       "    <tr>\n",
       "      <th>68</th>\n",
       "      <td>GAA</td>\n",
       "      <td>Glx</td>\n",
       "      <td>Z</td>\n",
       "      <td>Glutamine or Glutamic acid</td>\n",
       "    </tr>\n",
       "    <tr>\n",
       "      <th>69</th>\n",
       "      <td>GAG</td>\n",
       "      <td>Glx</td>\n",
       "      <td>Z</td>\n",
       "      <td>Glutamine or Glutamic acid</td>\n",
       "    </tr>\n",
       "    <tr>\n",
       "      <th>70</th>\n",
       "      <td>TAA</td>\n",
       "      <td>*</td>\n",
       "      <td>*</td>\n",
       "      <td>stop codon</td>\n",
       "    </tr>\n",
       "    <tr>\n",
       "      <th>71</th>\n",
       "      <td>TAG</td>\n",
       "      <td>*</td>\n",
       "      <td>*</td>\n",
       "      <td>stop codon</td>\n",
       "    </tr>\n",
       "    <tr>\n",
       "      <th>72</th>\n",
       "      <td>TGA</td>\n",
       "      <td>*</td>\n",
       "      <td>*</td>\n",
       "      <td>stop codon</td>\n",
       "    </tr>\n",
       "  </tbody>\n",
       "</table>\n",
       "<p>73 rows × 4 columns</p>\n",
       "</div>"
      ],
      "text/plain": [
       "   codon tri_code sig_code                       anmino\n",
       "0    GCA      Ala        A                      Alanine\n",
       "1    GCC      Ala        A                      Alanine\n",
       "2    GCG      Ala        A                      Alanine\n",
       "3    GCT      Ala        A                      Alanine\n",
       "4    AAC      Asx        B  Asparagine or Aspartic acid\n",
       "..   ...      ...      ...                          ...\n",
       "68   GAA      Glx        Z   Glutamine or Glutamic acid\n",
       "69   GAG      Glx        Z   Glutamine or Glutamic acid\n",
       "70   TAA        *        *                   stop codon\n",
       "71   TAG        *        *                   stop codon\n",
       "72   TGA        *        *                   stop codon\n",
       "\n",
       "[73 rows x 4 columns]"
      ]
     },
     "execution_count": 141,
     "metadata": {},
     "output_type": "execute_result"
    }
   ],
   "source": [
    "dfr = pd.read_csv(\"codon_amino.tsv\", sep=\"\\t\")\n",
    "dfr"
   ]
  },
  {
   "cell_type": "markdown",
   "id": "f56758bb-1b14-46be-97e8-c7467153d1a0",
   "metadata": {},
   "source": [
    "# output"
   ]
  },
  {
   "cell_type": "code",
   "execution_count": 168,
   "id": "39fc51c7-f5ee-4266-a7a0-914232a3a3ba",
   "metadata": {},
   "outputs": [],
   "source": [
    "out_d = \"output\"\n",
    "os.makedirs(out_d, exist_ok=True)"
   ]
  },
  {
   "cell_type": "code",
   "execution_count": 170,
   "id": "b0d5baad-42a8-42b2-be91-a8e4fc5e6b23",
   "metadata": {},
   "outputs": [
    {
     "name": "stdout",
     "output_type": "stream",
     "text": [
      "  codon_1 codon tri_code sig_code      anmino\n",
      "0     TGG   TGG      Trp        W  Tryptophan\n",
      "1     ATG   ATG      Met        M  Methionine\n",
      "2     CAT   CAT      His        H   Histidine\n",
      "3     ACG   ACG      Thr        T   Threonine\n",
      "4     AGA   AGA      Arg        R    Arginine\n",
      "5     TGA   TGA        *        *  stop codon\n",
      "6      GG   NaN      NaN      NaN         NaN\n"
     ]
    }
   ],
   "source": [
    "for num in range(3):\n",
    "    col_name = \"codon_{}\".format(num)\n",
    "    df_sub = df_in[col_name]\n",
    "    df_res = DF(df_sub).merge(dfr, how=\"left\", left_on=col_name, right_on=\"codon\")\n",
    "    df_res.to_csv(\"{}/{}.csv\".format(out_d, col_name), sep=\"\\t\", index=False)\n",
    "    if num == 1:\n",
    "        print(df_res)"
   ]
  },
  {
   "cell_type": "code",
   "execution_count": 191,
   "id": "7a6d6253-c77b-48ed-8c08-13ba43e17371",
   "metadata": {},
   "outputs": [
    {
     "data": {
      "text/plain": [
       "'/home/junsheng/BIN'"
      ]
     },
     "execution_count": 191,
     "metadata": {},
     "output_type": "execute_result"
    }
   ],
   "source": [
    "os.path.dirname(\"/home/junsheng/BIN/junsheng\")"
   ]
  },
  {
   "cell_type": "code",
   "execution_count": 194,
   "id": "9b1f7fd1-a8a0-4098-80e9-23a34e776c0d",
   "metadata": {},
   "outputs": [
    {
     "data": {
      "text/plain": [
       "'/home/junsheng/BIN/junsheng/DNA2Pro/DNA2Pro.py'"
      ]
     },
     "execution_count": 194,
     "metadata": {},
     "output_type": "execute_result"
    }
   ],
   "source": [
    "os.path.realpath(\"/home/junsheng/BIN/junsheng/DNA2Pro/DNA2Pro.py\")"
   ]
  },
  {
   "cell_type": "code",
   "execution_count": 195,
   "id": "a22236c8-a9c3-44e2-9a2a-958ffe8a810c",
   "metadata": {},
   "outputs": [
    {
     "data": {
      "text/html": [
       "<div>\n",
       "<style scoped>\n",
       "    .dataframe tbody tr th:only-of-type {\n",
       "        vertical-align: middle;\n",
       "    }\n",
       "\n",
       "    .dataframe tbody tr th {\n",
       "        vertical-align: top;\n",
       "    }\n",
       "\n",
       "    .dataframe thead th {\n",
       "        text-align: right;\n",
       "    }\n",
       "</style>\n",
       "<table border=\"1\" class=\"dataframe\">\n",
       "  <thead>\n",
       "    <tr style=\"text-align: right;\">\n",
       "      <th></th>\n",
       "      <th>codon_2</th>\n",
       "      <th>tri_code</th>\n",
       "      <th>sig_code</th>\n",
       "      <th>anmino</th>\n",
       "    </tr>\n",
       "  </thead>\n",
       "  <tbody>\n",
       "    <tr>\n",
       "      <th>0</th>\n",
       "      <td>GGA</td>\n",
       "      <td>Gly</td>\n",
       "      <td>G</td>\n",
       "      <td>Glycine</td>\n",
       "    </tr>\n",
       "    <tr>\n",
       "      <th>1</th>\n",
       "      <td>TGC</td>\n",
       "      <td>Cys</td>\n",
       "      <td>C</td>\n",
       "      <td>Cysteine</td>\n",
       "    </tr>\n",
       "    <tr>\n",
       "      <th>2</th>\n",
       "      <td>ATA</td>\n",
       "      <td>Ile</td>\n",
       "      <td>I</td>\n",
       "      <td>Isoleucine</td>\n",
       "    </tr>\n",
       "    <tr>\n",
       "      <th>3</th>\n",
       "      <td>CGA</td>\n",
       "      <td>Arg</td>\n",
       "      <td>R</td>\n",
       "      <td>Arginine</td>\n",
       "    </tr>\n",
       "    <tr>\n",
       "      <th>4</th>\n",
       "      <td>GAT</td>\n",
       "      <td>Asx</td>\n",
       "      <td>B</td>\n",
       "      <td>Asparagine or Aspartic acid</td>\n",
       "    </tr>\n",
       "    <tr>\n",
       "      <th>5</th>\n",
       "      <td>GAT</td>\n",
       "      <td>Asp</td>\n",
       "      <td>D</td>\n",
       "      <td>Aspartic acid</td>\n",
       "    </tr>\n",
       "    <tr>\n",
       "      <th>6</th>\n",
       "      <td>GAG</td>\n",
       "      <td>Glu</td>\n",
       "      <td>E</td>\n",
       "      <td>Glutamic acid</td>\n",
       "    </tr>\n",
       "    <tr>\n",
       "      <th>7</th>\n",
       "      <td>GAG</td>\n",
       "      <td>Glx</td>\n",
       "      <td>Z</td>\n",
       "      <td>Glutamine or Glutamic acid</td>\n",
       "    </tr>\n",
       "    <tr>\n",
       "      <th>8</th>\n",
       "      <td>G</td>\n",
       "      <td>NaN</td>\n",
       "      <td>NaN</td>\n",
       "      <td>NaN</td>\n",
       "    </tr>\n",
       "  </tbody>\n",
       "</table>\n",
       "</div>"
      ],
      "text/plain": [
       "  codon_2 tri_code sig_code                       anmino\n",
       "0     GGA      Gly        G                      Glycine\n",
       "1     TGC      Cys        C                     Cysteine\n",
       "2     ATA      Ile        I                   Isoleucine\n",
       "3     CGA      Arg        R                     Arginine\n",
       "4     GAT      Asx        B  Asparagine or Aspartic acid\n",
       "5     GAT      Asp        D                Aspartic acid\n",
       "6     GAG      Glu        E                Glutamic acid\n",
       "7     GAG      Glx        Z   Glutamine or Glutamic acid\n",
       "8       G      NaN      NaN                          NaN"
      ]
     },
     "execution_count": 195,
     "metadata": {},
     "output_type": "execute_result"
    }
   ],
   "source": [
    "df_res.drop(columns=[\"codon\"])"
   ]
  },
  {
   "cell_type": "code",
   "execution_count": null,
   "id": "e7fa9c35-2712-4e5f-ad6a-e036528cc05b",
   "metadata": {},
   "outputs": [],
   "source": []
  }
 ],
 "metadata": {
  "kernelspec": {
   "display_name": "Python 3 (ipykernel)",
   "language": "python",
   "name": "python3"
  },
  "language_info": {
   "codemirror_mode": {
    "name": "ipython",
    "version": 3
   },
   "file_extension": ".py",
   "mimetype": "text/x-python",
   "name": "python",
   "nbconvert_exporter": "python",
   "pygments_lexer": "ipython3",
   "version": "3.8.12"
  }
 },
 "nbformat": 4,
 "nbformat_minor": 5
}
