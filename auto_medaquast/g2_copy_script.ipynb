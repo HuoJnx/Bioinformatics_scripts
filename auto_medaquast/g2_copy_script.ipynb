{
 "cells": [
  {
   "cell_type": "markdown",
   "id": "4f818a05-fa9a-4715-823f-04275a809997",
   "metadata": {},
   "source": [
    "# Canu"
   ]
  },
  {
   "cell_type": "code",
   "execution_count": 1,
   "id": "738e6da8-9dc8-44e7-9e6d-11cf525721b4",
   "metadata": {},
   "outputs": [],
   "source": [
    "cp /g2_4t_ssd/junsheng/Test_nano_illu_hybrid/OPERA_MS_GIS20_ERX3228429/canu/out_canu/canu.contigs.fasta canu_before_pilon.fa"
   ]
  },
  {
   "cell_type": "code",
   "execution_count": 2,
   "id": "877b1321-425e-4ccd-8f37-c4ae4f774456",
   "metadata": {},
   "outputs": [],
   "source": [
    "cp /g2_4t_ssd/junsheng/Test_nano_illu_hybrid/OPERA_MS_GIS20_ERX3228429/canu/out_pilon/pilon.fasta canu_after_pilon_base.fa"
   ]
  },
  {
   "cell_type": "code",
   "execution_count": 3,
   "id": "231c7f13-7313-4a9b-bf70-7e7868b630ce",
   "metadata": {},
   "outputs": [],
   "source": [
    "cp /g2_4t_ssd/junsheng/Test_nano_illu_hybrid/OPERA_MS_GIS20_ERX3228429/canu/out_pilon_all/pilon.fasta canu_after_pilon_all.fa"
   ]
  },
  {
   "cell_type": "markdown",
   "id": "502dceee-bf8f-4f64-8d87-de43a55c4474",
   "metadata": {},
   "source": [
    "# Flye"
   ]
  },
  {
   "cell_type": "code",
   "execution_count": 4,
   "id": "97987d6c-1435-4edb-bc8c-596bd1ac2ea8",
   "metadata": {},
   "outputs": [],
   "source": [
    "cp /g2_4t_ssd/junsheng/Test_nano_illu_hybrid/OPERA_MS_GIS20_ERX3228429/flye_medaka_homopolish/out_homopolish/consensus_homopolished.fasta flye_before_pilon.fa"
   ]
  },
  {
   "cell_type": "code",
   "execution_count": 5,
   "id": "4a71aaf1-b2be-4d89-8f86-8b93bfe567d8",
   "metadata": {},
   "outputs": [],
   "source": [
    "cp /g2_4t_ssd/junsheng/Test_nano_illu_hybrid/OPERA_MS_GIS20_ERX3228429/flye_medaka_homopolish/out_pilon/pilon.fasta flye_after_pilon_base.fa"
   ]
  },
  {
   "cell_type": "markdown",
   "id": "ff9aec23-9bda-460f-80e4-b6c67126bf0c",
   "metadata": {},
   "source": [
    "# Miniasm"
   ]
  },
  {
   "cell_type": "code",
   "execution_count": 6,
   "id": "99f4069f-a588-4b22-ae3a-cdeb77f02834",
   "metadata": {},
   "outputs": [],
   "source": [
    "cp /g2_4t_ssd/junsheng/Test_nano_illu_hybrid/OPERA_MS_GIS20_ERX3228429/miniasm/minipolish.fasta miniasm_before_pilon.fa"
   ]
  },
  {
   "cell_type": "code",
   "execution_count": 7,
   "id": "bc24f94d-fc1d-46f5-a1c7-8e288c82c215",
   "metadata": {},
   "outputs": [],
   "source": [
    "cp /g2_4t_ssd/junsheng/Test_nano_illu_hybrid/OPERA_MS_GIS20_ERX3228429/miniasm/out_pilon/pilon.fasta miniasm_pilon_base.fa"
   ]
  },
  {
   "cell_type": "markdown",
   "id": "8018decc-91b1-4ad0-a637-34e0de9662b0",
   "metadata": {},
   "source": [
    "# raven"
   ]
  },
  {
   "cell_type": "code",
   "execution_count": 9,
   "id": "74356b8b-eb7a-440c-a994-81945ca7c7f2",
   "metadata": {},
   "outputs": [],
   "source": [
    "cp /g2_4t_ssd/junsheng/Test_nano_illu_hybrid/OPERA_MS_GIS20_ERX3228429/raven/out_raven.fasta raven_before_pilon.fa"
   ]
  },
  {
   "cell_type": "code",
   "execution_count": 10,
   "id": "b7fb719f-4e81-4a02-b4e8-23e0f0fbffa9",
   "metadata": {},
   "outputs": [],
   "source": [
    "cp /g2_4t_ssd/junsheng/Test_nano_illu_hybrid/OPERA_MS_GIS20_ERX3228429/raven/out_pilon/pilon.fasta raven_pilon_base.fa"
   ]
  },
  {
   "cell_type": "markdown",
   "id": "0ac0eda2-9418-41bd-88bd-a7a20171d6af",
   "metadata": {},
   "source": [
    "# wtdbg2"
   ]
  },
  {
   "cell_type": "code",
   "execution_count": 11,
   "id": "47cb148c-7d4d-40a8-86c3-bfd27c5b9381",
   "metadata": {},
   "outputs": [],
   "source": [
    "cp /g2_4t_ssd/junsheng/Test_nano_illu_hybrid/OPERA_MS_GIS20_ERX3228429/wtdbg2/out_wtdbg2.cns.fa wtdbg2_before_pilon.fa"
   ]
  },
  {
   "cell_type": "code",
   "execution_count": 12,
   "id": "cc9a8520-574b-4bfa-8213-124a6593d00d",
   "metadata": {},
   "outputs": [],
   "source": [
    "cp /g2_4t_ssd/junsheng/Test_nano_illu_hybrid/OPERA_MS_GIS20_ERX3228429/wtdbg2/out_pilon/pilon.fasta wtdbg2_pilon_base.fa"
   ]
  },
  {
   "cell_type": "markdown",
   "id": "1d842767-dae5-4c0e-bd0d-c2398d5fcff2",
   "metadata": {},
   "source": [
    "# standard"
   ]
  },
  {
   "cell_type": "code",
   "execution_count": 44,
   "id": "8fd9c97d-93da-456d-9667-e87baff1d720",
   "metadata": {},
   "outputs": [],
   "source": [
    "cp /g2_4t_ssd/junsheng/Test_nano_illu_hybrid/OPERA_MS_GIS20_ERX3228429/STANDARD_GENOME/STANDARD_GENOME.fa.gz ."
   ]
  },
  {
   "cell_type": "markdown",
   "id": "9fd62d6d-8c93-4f5f-aace-754b0e445c2f",
   "metadata": {},
   "source": [
    "# move to a better place"
   ]
  },
  {
   "cell_type": "code",
   "execution_count": 66,
   "id": "12a87aec-af32-4e40-ba73-d090237e7ed1",
   "metadata": {},
   "outputs": [],
   "source": [
    "mkdir for_evaluation"
   ]
  },
  {
   "cell_type": "code",
   "execution_count": 67,
   "id": "aa19abc6-4b8c-4881-bd16-55252169a711",
   "metadata": {},
   "outputs": [],
   "source": [
    "find $fa_dir -maxdepth 1 -type f \\( -name \"*.fa\" -o -name \"*.fasta\" -o -name \"*.fa.gz\" -o -name \"*.fasta.gz\" \\)|parallel mv {} for_evaluation/"
   ]
  },
  {
   "cell_type": "markdown",
   "id": "9bf234f8-c940-4303-a849-02d05861e465",
   "metadata": {},
   "source": [
    "# cp the depth file"
   ]
  },
  {
   "cell_type": "code",
   "execution_count": 68,
   "id": "7ccbc786-be30-4813-a3e8-6e7e76dccc02",
   "metadata": {},
   "outputs": [],
   "source": [
    "cp ../../1calculate_depth/out_strain_depth.csv stran_depth.csv"
   ]
  },
  {
   "cell_type": "code",
   "execution_count": null,
   "id": "ad067e6b-9860-4dc8-bd49-b64030f6c843",
   "metadata": {},
   "outputs": [],
   "source": []
  }
 ],
 "metadata": {
  "kernelspec": {
   "display_name": "Bash",
   "language": "bash",
   "name": "bash"
  },
  "language_info": {
   "codemirror_mode": "shell",
   "file_extension": ".sh",
   "mimetype": "text/x-sh",
   "name": "bash"
  },
  "toc-autonumbering": true
 },
 "nbformat": 4,
 "nbformat_minor": 5
}
