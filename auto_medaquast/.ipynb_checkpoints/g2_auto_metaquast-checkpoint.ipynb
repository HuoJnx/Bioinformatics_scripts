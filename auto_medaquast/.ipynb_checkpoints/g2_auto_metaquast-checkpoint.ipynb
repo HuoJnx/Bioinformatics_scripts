{
 "cells": [
  {
   "cell_type": "markdown",
   "id": "056eaa41-e51a-45dc-8327-3436c200b505",
   "metadata": {},
   "source": [
    "# try the getopts"
   ]
  },
  {
   "cell_type": "code",
   "execution_count": 39,
   "id": "33507b42-46e6-4422-9557-faebaaeb1b5b",
   "metadata": {},
   "outputs": [
    {
     "name": "stdout",
     "output_type": "stream",
     "text": [
      "\n",
      "\n",
      "\n",
      "The directory containing all the fasta is .\n",
      "The reference list is ../mock_taxon/ref_name_human_corrected\n",
      "The goal-standard genome is STANDARD_GENOME.fa.gz\n",
      "\n",
      "\n",
      "\n",
      "Havn't define output directory, will use default 'out_quast'.\n",
      "\n",
      "\n",
      "\n",
      "(quast) "
     ]
    },
    {
     "ename": "",
     "evalue": "1",
     "output_type": "error",
     "traceback": []
    }
   ],
   "source": [
    "bash try_getopts.sh -d . -r ../mock_taxon/ref_name_human_corrected -s STANDARD_GENOME.fa.gz"
   ]
  },
  {
   "cell_type": "markdown",
   "id": "1cda9c91-8957-4987-8d33-db7280eb3020",
   "metadata": {},
   "source": [
    "# read the fasta"
   ]
  },
  {
   "cell_type": "markdown",
   "id": "db3d2326-c71e-4cb7-8269-ea5af8334a79",
   "metadata": {},
   "source": [
    "## user arugments"
   ]
  },
  {
   "cell_type": "code",
   "execution_count": 52,
   "id": "dab5ca85-ed8f-4d21-9a1c-1a1a5d5fc54d",
   "metadata": {},
   "outputs": [
    {
     "name": "stdout",
     "output_type": "stream",
     "text": [
      "[1]+  Done                    nohup metaquast.py $f_list --references-list $ref_list -o $out_dir -t $threads > log_metaquast.log\n",
      "(quast) "
     ]
    },
    {
     "ename": "",
     "evalue": "1",
     "output_type": "error",
     "traceback": []
    }
   ],
   "source": [
    "fa_dir=\"for_evaluation\""
   ]
  },
  {
   "cell_type": "code",
   "execution_count": 19,
   "id": "bb76c3f8-d22f-487f-b9e5-42e3156d952d",
   "metadata": {},
   "outputs": [
    {
     "name": "stdout",
     "output_type": "stream",
     "text": [
      "STANDARD_GENOME.fa.gz\n"
     ]
    }
   ],
   "source": [
    "gold_genome=\"./STANDARD_GENOME.fa.gz\"\n",
    "gold_genome=$(echo $gold_genome|awk -F\"/\" '{print $NF}')\n",
    "echo $gold_genome"
   ]
  },
  {
   "cell_type": "code",
   "execution_count": 37,
   "id": "8cfb08a6-5bf7-4402-88ff-ef96a3446479",
   "metadata": {},
   "outputs": [
    {
     "name": "stdout",
     "output_type": "stream",
     "text": [
      "(quast) "
     ]
    },
    {
     "ename": "",
     "evalue": "1",
     "output_type": "error",
     "traceback": []
    }
   ],
   "source": [
    "ref_list=\"../mock_taxon/ref_name_human_corrected\""
   ]
  },
  {
   "cell_type": "code",
   "execution_count": 40,
   "id": "bb1eab21-7598-4576-a7be-97b893046800",
   "metadata": {},
   "outputs": [
    {
     "name": "stdout",
     "output_type": "stream",
     "text": [
      "(quast) "
     ]
    },
    {
     "ename": "",
     "evalue": "1",
     "output_type": "error",
     "traceback": []
    }
   ],
   "source": [
    "out_dir=\"out_quast\""
   ]
  },
  {
   "cell_type": "code",
   "execution_count": 41,
   "id": "06183227-69f7-4b35-9d07-9b66cf704390",
   "metadata": {},
   "outputs": [
    {
     "name": "stdout",
     "output_type": "stream",
     "text": [
      "(quast) 16\n",
      "(quast) "
     ]
    },
    {
     "ename": "",
     "evalue": "1",
     "output_type": "error",
     "traceback": []
    }
   ],
   "source": [
    "threads=$(cat /proc/cpuinfo | grep \"processor\" |wc -l)\n",
    "echo $threads"
   ]
  },
  {
   "cell_type": "code",
   "execution_count": 57,
   "id": "7104fc48-5d55-4846-a09e-7d6f18ada5c4",
   "metadata": {},
   "outputs": [
    {
     "name": "stdout",
     "output_type": "stream",
     "text": [
      "auto_metaquast.sh        g2_python.ipynb    \u001b[0m\u001b[01;34mout_quast_after_py\u001b[0m\n",
      "\u001b[01;34mfor_evaluation\u001b[0m           groupby_info.csv   script_python_after_quast.py\n",
      "g2_auto_metaquast.ipynb  log_metaquast.log  strain_depth.csv\n",
      "g2_copy_script.ipynb     \u001b[01;34mout_quast\u001b[0m\n",
      "(quast) "
     ]
    },
    {
     "ename": "",
     "evalue": "1",
     "output_type": "error",
     "traceback": []
    }
   ],
   "source": [
    "ls"
   ]
  },
  {
   "cell_type": "markdown",
   "id": "453a49f7-836e-4d62-9024-916077094c3c",
   "metadata": {},
   "source": [
    "## get f_list for metaquast"
   ]
  },
  {
   "cell_type": "code",
   "execution_count": 22,
   "id": "e587192d-566a-4e55-ac39-8ae472f5979d",
   "metadata": {},
   "outputs": [
    {
     "name": "stdout",
     "output_type": "stream",
     "text": [
      "./STANDARD_GENOME.fa.gz\n"
     ]
    }
   ],
   "source": [
    "f_list1=$(find $fa_dir -type f -name $gold_genome)\n",
    "echo $f_list1"
   ]
  },
  {
   "cell_type": "code",
   "execution_count": 31,
   "id": "8ce57d43-1aa6-4637-b7c2-2418ba0968fe",
   "metadata": {},
   "outputs": [
    {
     "name": "stdout",
     "output_type": "stream",
     "text": [
      "./canu_before_pilon.fa\n",
      "./canu_after_pilon_all.fa\n",
      "./miniasm_pilon_base.fa\n",
      "./flye_before_pilon.fa\n",
      "./wtdbg2_pilon_base.fa\n",
      "./flye_after_pilon_base.fa\n",
      "./wtdbg2_before_pilon.fa\n",
      "./raven_before_pilon.fa\n",
      "./miniasm_before_pilon.fa\n",
      "./canu_after_pilon_base.fa\n",
      "./raven_pilon_base.fa\n"
     ]
    }
   ],
   "source": [
    "f_list2=$(find $fa_dir -type f \\( -name \"*.fa\" -o -name \"*.fasta\" -o -name \"*.fa.gz\" -o -name \"*.fasta.gz\" \\)|grep -v \"$gold_genome\")\n",
    "echo \"$f_list2\""
   ]
  },
  {
   "cell_type": "code",
   "execution_count": 44,
   "id": "7084f1a5-03d1-4c4f-887a-c4836e10803a",
   "metadata": {},
   "outputs": [
    {
     "name": "stdout",
     "output_type": "stream",
     "text": [
      "(quast) "
     ]
    },
    {
     "ename": "",
     "evalue": "1",
     "output_type": "error",
     "traceback": []
    }
   ],
   "source": [
    "f_list2=$(echo \"$f_list2\"|sort)"
   ]
  },
  {
   "cell_type": "code",
   "execution_count": 45,
   "id": "61a560e4-85ca-4d90-b8a7-30df84af543a",
   "metadata": {},
   "outputs": [
    {
     "name": "stdout",
     "output_type": "stream",
     "text": [
      "(quast) ./STANDARD_GENOME.fa.gz\n",
      "./canu_after_pilon_all.fa\n",
      "./canu_after_pilon_base.fa\n",
      "./canu_before_pilon.fa\n",
      "./flye_after_pilon_base.fa\n",
      "./flye_before_pilon.fa\n",
      "./miniasm_before_pilon.fa\n",
      "./miniasm_pilon_base.fa\n",
      "./raven_before_pilon.fa\n",
      "./raven_pilon_base.fa\n",
      "./wtdbg2_before_pilon.fa\n",
      "./wtdbg2_pilon_base.fa\n",
      "(quast) "
     ]
    },
    {
     "ename": "",
     "evalue": "1",
     "output_type": "error",
     "traceback": []
    }
   ],
   "source": [
    "f_list=$(echo -e \"$f_list1\\n$f_list2\")\n",
    "echo \"$f_list\""
   ]
  },
  {
   "cell_type": "markdown",
   "id": "4f1a1b58-7d2d-447f-903f-156446a0cc66",
   "metadata": {},
   "source": [
    "# do the metaquast"
   ]
  },
  {
   "cell_type": "code",
   "execution_count": 33,
   "id": "a5d7fad5-59dc-4a85-93c1-14e6ee174a69",
   "metadata": {},
   "outputs": [
    {
     "name": "stdout",
     "output_type": "stream",
     "text": [
      "(quast) "
     ]
    },
    {
     "ename": "",
     "evalue": "1",
     "output_type": "error",
     "traceback": []
    }
   ],
   "source": [
    "act quast"
   ]
  },
  {
   "cell_type": "code",
   "execution_count": 49,
   "id": "5cfd85e2-a5ec-4d76-aa1f-4af563eaece2",
   "metadata": {},
   "outputs": [
    {
     "name": "stdout",
     "output_type": "stream",
     "text": [
      "[1] 1264748\n",
      "(quast) "
     ]
    },
    {
     "ename": "",
     "evalue": "1",
     "output_type": "error",
     "traceback": []
    }
   ],
   "source": [
    "nohup \\\n",
    "metaquast.py $f_list --references-list $ref_list \\\n",
    "-o $out_dir \\\n",
    "-t $threads \\\n",
    "> log_metaquast.log \\\n",
    "&"
   ]
  },
  {
   "cell_type": "code",
   "execution_count": 51,
   "id": "ece979fc-1375-4793-a8d2-5b0701ab0f8a",
   "metadata": {},
   "outputs": [
    {
     "name": "stdout",
     "output_type": "stream",
     "text": [
      "/home/junsheng/BIN/anaconda3/envs/quast/lib/python3.9/site-packages/quast-5.1.0rc1-py3.9.egg/EGG-INFO/scripts/metaquast.py ./STANDARD_GENOME.fa.gz ./canu_after_pilon_all.fa ./canu_after_pilon_base.fa ./canu_before_pilon.fa ./flye_after_pilon_base.fa ./flye_before_pilon.fa ./miniasm_before_pilon.fa ./miniasm_pilon_base.fa ./raven_before_pilon.fa ./raven_pilon_base.fa ./wtdbg2_before_pilon.fa ./wtdbg2_pilon_base.fa --references-list ../mock_taxon/ref_name_human_corrected -o out_quast -t 16\n",
      "\n",
      "Version: 5.1.0rc1, 06874b82\n",
      "\n",
      "System information:\n",
      "  OS: Linux-5.11.0-46-generic-x86_64-with-glibc2.31 (linux_64)\n",
      "  Python version: 3.9.9\n",
      "  CPUs number: 16\n",
      "\n",
      "Started: 2022-01-26 14:02:32\n",
      "\n",
      "Logging to /g2_4t_ssd/junsheng/Test_nano_illu_hybrid/OPERA_MS_GIS20_ERX3228429/2new_comparision/no_pilon_pilon_all/out_quast/metaquast.log\n",
      "NOTICE: Output directory already exists and looks like a QUAST output dir. Existing results can be reused (e.g. previously generated alignments)!\n",
      "\n",
      "Contigs:\n",
      "  Pre-processing...\n",
      "  1  ./STANDARD_GENOME.fa.gz ==> STANDARD_GENOME\n",
      "  2  ./canu_after_pilon_all.fa ==> canu_after_pilon_all\n",
      "  3  ./canu_after_pilon_base.fa ==> canu_after_pilon_base\n",
      "  4  ./canu_before_pilon.fa ==> canu_before_pilon\n",
      "  5  ./flye_after_pilon_base.fa ==> flye_after_pilon_base\n",
      "  6  ./flye_before_pilon.fa ==> flye_before_pilon\n",
      "  7  ./miniasm_before_pilon.fa ==> miniasm_before_pilon\n",
      "  8  ./miniasm_pilon_base.fa ==> miniasm_pilon_base\n",
      "  9  ./raven_before_pilon.fa ==> raven_before_pilon\n",
      "  10 ./raven_pilon_base.fa ==> raven_pilon_base\n",
      "  11 ./wtdbg2_before_pilon.fa ==> wtdbg2_before_pilon\n",
      "  12 ./wtdbg2_pilon_base.fa ==> wtdbg2_pilon_base\n",
      "\n",
      "List of references was provided, starting to download reference genomes from NCBI...\n",
      "\n",
      "2022-01-26 14:02:34\n",
      "\n",
      "2022-01-26 14:02:35\n",
      "Trying to download found references from NCBI. Totally 18 organisms to try.\n",
      "MetaQUAST will attempt to use previously downloaded references...\n",
      "  Pseudomonas_putida           | was downloaded previously (total 1, 17 more to go)\n",
      "  Klebsiella_pneumoniae        | was downloaded previously (total 2, 16 more to go)\n",
      "(quast) "
     ]
    },
    {
     "ename": "",
     "evalue": "1",
     "output_type": "error",
     "traceback": []
    }
   ],
   "source": [
    "c log_metaquast.log"
   ]
  },
  {
   "cell_type": "code",
   "execution_count": 48,
   "id": "db64fd7f-9a7d-4794-8686-2dac8a1b4511",
   "metadata": {},
   "outputs": [
    {
     "name": "stdout",
     "output_type": "stream",
     "text": [
      "(quast) "
     ]
    },
    {
     "ename": "",
     "evalue": "1",
     "output_type": "error",
     "traceback": []
    }
   ],
   "source": [
    "jobs -p|xargs kill"
   ]
  },
  {
   "cell_type": "markdown",
   "id": "559cee23-bd6d-4274-91d6-11a70519d903",
   "metadata": {},
   "source": [
    "# build the group information"
   ]
  },
  {
   "cell_type": "code",
   "execution_count": 56,
   "id": "4f001661-4b98-423a-924a-09c31e92c98f",
   "metadata": {},
   "outputs": [
    {
     "name": "stdout",
     "output_type": "stream",
     "text": [
      "(quast) "
     ]
    },
    {
     "ename": "",
     "evalue": "1",
     "output_type": "error",
     "traceback": []
    }
   ],
   "source": [
    "echo \"$(ls for_evaluation)\" > groupby_info.csv"
   ]
  },
  {
   "cell_type": "code",
   "execution_count": null,
   "id": "b658b0f6-c35e-4d1b-ae12-578bdc170557",
   "metadata": {},
   "outputs": [],
   "source": []
  }
 ],
 "metadata": {
  "kernelspec": {
   "display_name": "Bash",
   "language": "bash",
   "name": "bash"
  },
  "language_info": {
   "codemirror_mode": "shell",
   "file_extension": ".sh",
   "mimetype": "text/x-sh",
   "name": "bash"
  },
  "toc-autonumbering": true
 },
 "nbformat": 4,
 "nbformat_minor": 5
}
