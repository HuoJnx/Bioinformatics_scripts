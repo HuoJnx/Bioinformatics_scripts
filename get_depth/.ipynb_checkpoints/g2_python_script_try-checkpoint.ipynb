{
 "cells": [
  {
   "cell_type": "code",
   "execution_count": 12,
   "id": "e3ede69c-f661-487d-b8b5-0337386737d7",
   "metadata": {},
   "outputs": [],
   "source": [
    "import os, sys, time\n",
    "\n",
    "import pandas as pd\n",
    "from pandas import DataFrame as DF, Series"
   ]
  },
  {
   "cell_type": "code",
   "execution_count": 23,
   "id": "1e88c7b4-36da-4be5-9856-e5f419e48e6d",
   "metadata": {},
   "outputs": [
    {
     "data": {
      "text/plain": [
       "[]"
      ]
     },
     "execution_count": 23,
     "metadata": {},
     "output_type": "execute_result"
    }
   ],
   "source": [
    "#get files\n",
    "in_dir=\"test\"\n",
    "f_list=[f for f in os.listdir(in_dir) if \"depth\" in f]\n",
    "f_list=[os.path.join(in_dir,f) for f in f_list]\n",
    "f_list"
   ]
  },
  {
   "cell_type": "code",
   "execution_count": 15,
   "id": "3ed93677-0051-46cc-99be-7d1fe740c810",
   "metadata": {},
   "outputs": [
    {
     "name": "stderr",
     "output_type": "stream",
     "text": [
      "/home/junsheng/BIN/anaconda3/lib/python3.8/site-packages/IPython/core/interactiveshell.py:3457: DtypeWarning: Columns (1,2) have mixed types.Specify dtype option on import or set low_memory=False.\n",
      "  exec(code_obj, self.user_global_ns, self.user_ns)\n"
     ]
    }
   ],
   "source": [
    "for o,f in enumerate(f_list):\n",
    "    temp_df=pd.read_csv(f,sep=\"\\t\",header=None)\n",
    "    temp_df.columns=[\"chrom\",\"pos\",\"depth\"]\n",
    "    temp_df[\"file\"]=f\n",
    "    if o==0:\n",
    "        final_df=temp_df\n",
    "    else:\n",
    "        final_df=pd.concat([final_df,temp_df])"
   ]
  },
  {
   "cell_type": "code",
   "execution_count": 18,
   "id": "56f95d2b-1919-4347-bda7-ffda4c2b138a",
   "metadata": {},
   "outputs": [
    {
     "data": {
      "text/plain": [
       "'2022_01_24'"
      ]
     },
     "execution_count": 18,
     "metadata": {},
     "output_type": "execute_result"
    }
   ],
   "source": [
    "import datetime\n",
    "now_time = datetime.datetime.now().strftime('%Y_%m_%d')\n",
    "now_time"
   ]
  },
  {
   "cell_type": "code",
   "execution_count": 19,
   "id": "dcdb7b1f-aac1-4b0f-b6a0-04d1ed5e67c4",
   "metadata": {},
   "outputs": [
    {
     "data": {
      "text/plain": [
       "'Depth_references_2022_01_24.csv'"
      ]
     },
     "execution_count": 19,
     "metadata": {},
     "output_type": "execute_result"
    }
   ],
   "source": [
    "\"Depth_{}_{}.csv\".format(in_dir, now_time)"
   ]
  },
  {
   "cell_type": "code",
   "execution_count": 16,
   "id": "91af30df-0f9e-4aed-b5b3-f568eeb4fa7a",
   "metadata": {},
   "outputs": [
    {
     "data": {
      "text/html": [
       "<div>\n",
       "<style scoped>\n",
       "    .dataframe tbody tr th:only-of-type {\n",
       "        vertical-align: middle;\n",
       "    }\n",
       "\n",
       "    .dataframe tbody tr th {\n",
       "        vertical-align: top;\n",
       "    }\n",
       "\n",
       "    .dataframe thead th {\n",
       "        text-align: right;\n",
       "    }\n",
       "</style>\n",
       "<table border=\"1\" class=\"dataframe\">\n",
       "  <thead>\n",
       "    <tr style=\"text-align: right;\">\n",
       "      <th></th>\n",
       "      <th>chrom</th>\n",
       "      <th>pos</th>\n",
       "      <th>depth</th>\n",
       "      <th>file</th>\n",
       "    </tr>\n",
       "  </thead>\n",
       "  <tbody>\n",
       "    <tr>\n",
       "      <th>0</th>\n",
       "      <td>#CHROM</td>\n",
       "      <td>POS</td>\n",
       "      <td>references/Lactobacillus_reuteri.fna.gz.mmi.sa...</td>\n",
       "      <td>references/Lactobacillus_reuteri.fna.gz.mmi.sa...</td>\n",
       "    </tr>\n",
       "    <tr>\n",
       "      <th>1</th>\n",
       "      <td>NZ_JAJGVJ010000001.1</td>\n",
       "      <td>1</td>\n",
       "      <td>0</td>\n",
       "      <td>references/Lactobacillus_reuteri.fna.gz.mmi.sa...</td>\n",
       "    </tr>\n",
       "    <tr>\n",
       "      <th>2</th>\n",
       "      <td>NZ_JAJGVJ010000001.1</td>\n",
       "      <td>2</td>\n",
       "      <td>0</td>\n",
       "      <td>references/Lactobacillus_reuteri.fna.gz.mmi.sa...</td>\n",
       "    </tr>\n",
       "    <tr>\n",
       "      <th>3</th>\n",
       "      <td>NZ_JAJGVJ010000001.1</td>\n",
       "      <td>3</td>\n",
       "      <td>0</td>\n",
       "      <td>references/Lactobacillus_reuteri.fna.gz.mmi.sa...</td>\n",
       "    </tr>\n",
       "    <tr>\n",
       "      <th>4</th>\n",
       "      <td>NZ_JAJGVJ010000001.1</td>\n",
       "      <td>4</td>\n",
       "      <td>0</td>\n",
       "      <td>references/Lactobacillus_reuteri.fna.gz.mmi.sa...</td>\n",
       "    </tr>\n",
       "    <tr>\n",
       "      <th>...</th>\n",
       "      <td>...</td>\n",
       "      <td>...</td>\n",
       "      <td>...</td>\n",
       "      <td>...</td>\n",
       "    </tr>\n",
       "    <tr>\n",
       "      <th>2491054</th>\n",
       "      <td>NZ_CP035290.1</td>\n",
       "      <td>4435</td>\n",
       "      <td>160</td>\n",
       "      <td>references/Staphylococcus_epidermidis.fna.gz.m...</td>\n",
       "    </tr>\n",
       "    <tr>\n",
       "      <th>2491055</th>\n",
       "      <td>NZ_CP035290.1</td>\n",
       "      <td>4436</td>\n",
       "      <td>155</td>\n",
       "      <td>references/Staphylococcus_epidermidis.fna.gz.m...</td>\n",
       "    </tr>\n",
       "    <tr>\n",
       "      <th>2491056</th>\n",
       "      <td>NZ_CP035290.1</td>\n",
       "      <td>4437</td>\n",
       "      <td>108</td>\n",
       "      <td>references/Staphylococcus_epidermidis.fna.gz.m...</td>\n",
       "    </tr>\n",
       "    <tr>\n",
       "      <th>2491057</th>\n",
       "      <td>NZ_CP035290.1</td>\n",
       "      <td>4438</td>\n",
       "      <td>101</td>\n",
       "      <td>references/Staphylococcus_epidermidis.fna.gz.m...</td>\n",
       "    </tr>\n",
       "    <tr>\n",
       "      <th>2491058</th>\n",
       "      <td>NZ_CP035290.1</td>\n",
       "      <td>4439</td>\n",
       "      <td>97</td>\n",
       "      <td>references/Staphylococcus_epidermidis.fna.gz.m...</td>\n",
       "    </tr>\n",
       "  </tbody>\n",
       "</table>\n",
       "<p>52977196 rows × 4 columns</p>\n",
       "</div>"
      ],
      "text/plain": [
       "                        chrom   pos  \\\n",
       "0                      #CHROM   POS   \n",
       "1        NZ_JAJGVJ010000001.1     1   \n",
       "2        NZ_JAJGVJ010000001.1     2   \n",
       "3        NZ_JAJGVJ010000001.1     3   \n",
       "4        NZ_JAJGVJ010000001.1     4   \n",
       "...                       ...   ...   \n",
       "2491054         NZ_CP035290.1  4435   \n",
       "2491055         NZ_CP035290.1  4436   \n",
       "2491056         NZ_CP035290.1  4437   \n",
       "2491057         NZ_CP035290.1  4438   \n",
       "2491058         NZ_CP035290.1  4439   \n",
       "\n",
       "                                                     depth  \\\n",
       "0        references/Lactobacillus_reuteri.fna.gz.mmi.sa...   \n",
       "1                                                        0   \n",
       "2                                                        0   \n",
       "3                                                        0   \n",
       "4                                                        0   \n",
       "...                                                    ...   \n",
       "2491054                                                160   \n",
       "2491055                                                155   \n",
       "2491056                                                108   \n",
       "2491057                                                101   \n",
       "2491058                                                 97   \n",
       "\n",
       "                                                      file  \n",
       "0        references/Lactobacillus_reuteri.fna.gz.mmi.sa...  \n",
       "1        references/Lactobacillus_reuteri.fna.gz.mmi.sa...  \n",
       "2        references/Lactobacillus_reuteri.fna.gz.mmi.sa...  \n",
       "3        references/Lactobacillus_reuteri.fna.gz.mmi.sa...  \n",
       "4        references/Lactobacillus_reuteri.fna.gz.mmi.sa...  \n",
       "...                                                    ...  \n",
       "2491054  references/Staphylococcus_epidermidis.fna.gz.m...  \n",
       "2491055  references/Staphylococcus_epidermidis.fna.gz.m...  \n",
       "2491056  references/Staphylococcus_epidermidis.fna.gz.m...  \n",
       "2491057  references/Staphylococcus_epidermidis.fna.gz.m...  \n",
       "2491058  references/Staphylococcus_epidermidis.fna.gz.m...  \n",
       "\n",
       "[52977196 rows x 4 columns]"
      ]
     },
     "execution_count": 16,
     "metadata": {},
     "output_type": "execute_result"
    }
   ],
   "source": [
    "final_df"
   ]
  },
  {
   "cell_type": "code",
   "execution_count": 22,
   "id": "4db397e6-66f2-447d-95a0-46c1bf9fa2fc",
   "metadata": {},
   "outputs": [
    {
     "data": {
      "text/plain": [
       "<pandas.core.groupby.generic.DataFrameGroupBy object at 0x7f840726c730>"
      ]
     },
     "execution_count": 22,
     "metadata": {},
     "output_type": "execute_result"
    }
   ],
   "source": [
    "depth_mean=final_df.groupby(\"file\")\n",
    "depth_mean"
   ]
  },
  {
   "cell_type": "code",
   "execution_count": 24,
   "id": "3b4ceb1c-1c1b-4d1c-9222-0f97ce6225cd",
   "metadata": {},
   "outputs": [
    {
     "data": {
      "text/plain": [
       "'/g2_4t_ssd/junsheng/Test_nano_illu_hybrid/OPERA_MS_GIS20_ERX3228429/1calculate_depth/mk_depth_cmd'"
      ]
     },
     "execution_count": 24,
     "metadata": {},
     "output_type": "execute_result"
    }
   ],
   "source": [
    "os.getcwd()"
   ]
  },
  {
   "cell_type": "code",
   "execution_count": null,
   "id": "10f32511-22f5-4c3a-9444-c10f17cd2b68",
   "metadata": {},
   "outputs": [],
   "source": [
    "depth_mean=DF(depth_mean).reset_index()"
   ]
  },
  {
   "cell_type": "code",
   "execution_count": 28,
   "id": "ff26e5f0-3398-4362-850f-2f231cac8abe",
   "metadata": {},
   "outputs": [],
   "source": [
    "now_time = datetime.datetime.now().strftime('%Y_%m_%d_%H_%M_%S')\n",
    "\n",
    "pwd=os.getcwd()\n",
    "file_name=\"depth_{}.csv\".format(now_time)\n",
    "save_path=os.path.join(pwd,file_name)\n"
   ]
  },
  {
   "cell_type": "code",
   "execution_count": 29,
   "id": "2a595f94-52fc-4bf5-b8a2-f702219eeb91",
   "metadata": {},
   "outputs": [
    {
     "data": {
      "text/plain": [
       "'/g2_4t_ssd/junsheng/Test_nano_illu_hybrid/OPERA_MS_GIS20_ERX3228429/1calculate_depth/mk_depth_cmd/depth_2022_01_25_11_23_51.csv'"
      ]
     },
     "execution_count": 29,
     "metadata": {},
     "output_type": "execute_result"
    }
   ],
   "source": [
    "save_path"
   ]
  },
  {
   "cell_type": "code",
   "execution_count": 27,
   "id": "ed8127eb-179a-43d0-804e-5fe85bb39f58",
   "metadata": {},
   "outputs": [
    {
     "data": {
      "text/plain": [
       "'test'"
      ]
     },
     "execution_count": 27,
     "metadata": {},
     "output_type": "execute_result"
    }
   ],
   "source": [
    "in_dir=\"\""
   ]
  },
  {
   "cell_type": "code",
   "execution_count": null,
   "id": "bd047110-ad3b-4d41-9f67-6f04a6567f29",
   "metadata": {},
   "outputs": [],
   "source": []
  }
 ],
 "metadata": {
  "kernelspec": {
   "display_name": "Python 3 (ipykernel)",
   "language": "python",
   "name": "python3"
  },
  "language_info": {
   "codemirror_mode": {
    "name": "ipython",
    "version": 3
   },
   "file_extension": ".py",
   "mimetype": "text/x-python",
   "name": "python",
   "nbconvert_exporter": "python",
   "pygments_lexer": "ipython3",
   "version": "3.8.8"
  }
 },
 "nbformat": 4,
 "nbformat_minor": 5
}
