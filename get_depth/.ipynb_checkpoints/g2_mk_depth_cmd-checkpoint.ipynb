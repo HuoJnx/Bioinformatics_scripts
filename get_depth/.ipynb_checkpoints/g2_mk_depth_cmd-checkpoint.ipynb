{
 "cells": [
  {
   "cell_type": "code",
   "execution_count": 24,
   "id": "1e25f9da-5029-4988-923e-1442da8554c4",
   "metadata": {},
   "outputs": [
    {
     "name": "stdout",
     "output_type": "stream",
     "text": [
      "(MAPPING) "
     ]
    },
    {
     "ename": "",
     "evalue": "1",
     "output_type": "error",
     "traceback": []
    }
   ],
   "source": [
    "act MAPPING"
   ]
  },
  {
   "cell_type": "markdown",
   "id": "907effd1-12e4-4100-88c2-d76fce09b619",
   "metadata": {},
   "source": [
    "# define the user information"
   ]
  },
  {
   "cell_type": "code",
   "execution_count": 49,
   "id": "85921ca7-2ca2-4386-8a68-6e5a3935d5fd",
   "metadata": {},
   "outputs": [
    {
     "name": "stdout",
     "output_type": "stream",
     "text": [
      "(MAPPING) (MAPPING) (MAPPING) "
     ]
    },
    {
     "ename": "",
     "evalue": "1",
     "output_type": "error",
     "traceback": []
    }
   ],
   "source": [
    "mode=\"long\"\n",
    "ref_dir=\"test\"\n",
    "reads=\"/g2_4t_ssd/junsheng/Test_nano_illu_hybrid/OPERA_MS_GIS20_ERX3228429/original/ONT/ERR3200811.fastq\""
   ]
  },
  {
   "cell_type": "markdown",
   "id": "4b7986f8-3c39-4d96-a532-ca5aa291f3c0",
   "metadata": {},
   "source": [
    "# get the program"
   ]
  },
  {
   "cell_type": "code",
   "execution_count": 9,
   "id": "3b791550-ed27-4c0c-9bf3-f10898af1b12",
   "metadata": {},
   "outputs": [
    {
     "name": "stdout",
     "output_type": "stream",
     "text": [
      "The path of minimap2 is /home/junsheng/BIN/ont-guppy/bin/minimap2\n",
      "The path of samtools is /usr/bin/samtools\n"
     ]
    }
   ],
   "source": [
    "p_short=$(which bwa)\n",
    "p_long=$(which minimap2)\n",
    "p_sam=$(which samtools)\n",
    "\n",
    "\n",
    "if [ $mode == \"long\" ];then\n",
    "\n",
    "    if [ -z $p_long ];then\n",
    "        echo \"No minimap2.\"\n",
    "        exit 1\n",
    "    else\n",
    "        echo \"The path of minimap2 is $p_long\"\n",
    "    fi\n",
    "\n",
    "elif [ $mode == \"short\" ];then\n",
    "\n",
    "    if [ -z $p_short ];then\n",
    "        echo \"No bwa.\"\n",
    "    else\n",
    "        echo \"The path of minimap2 is $p_short\"\n",
    "    fi\n",
    "fi\n",
    "\n",
    "\n",
    "if [ -z $p_sam ];then\n",
    "    echo \"No samtools.\"\n",
    "    exit 1\n",
    "else\n",
    "    echo \"The path of samtools is $p_sam\"\n",
    "fi"
   ]
  },
  {
   "cell_type": "markdown",
   "id": "1f06fc5c-a299-48d9-b86c-458755d21002",
   "metadata": {},
   "source": [
    "# use minimap2 to index the reference"
   ]
  },
  {
   "cell_type": "code",
   "execution_count": 13,
   "id": "fc845358-2fb3-4215-a3ec-272a475ae5f5",
   "metadata": {
    "scrolled": true,
    "tags": []
   },
   "outputs": [
    {
     "name": "stdout",
     "output_type": "stream",
     "text": [
      "[M::mm_idx_gen::0.050*1.03] collected minimizers\n",
      "[M::mm_idx_gen::0.074*1.04] sorted minimizers\n",
      "[M::main::0.110*0.89] loaded/built the index for 2 target sequence(s)\n",
      "[M::mm_idx_stat] kmer size: 15; skip: 10; is_hpc: 0; #seq: 2\n",
      "[M::mm_idx_stat::0.123*0.85] distinct minimizers: 324721 (98.27% are singletons); average occurrences: 1.027; average spacing: 5.366; total length: 1790058\n",
      "[M::main] Version: 2.22-r1101\n",
      "[M::main] CMD: /home/junsheng/BIN/ont-guppy/bin/minimap2 -d references/Jonquetella_anthropi.fna.gz.mmi references/Jonquetella_anthropi.fna.gz\n",
      "[M::main] Real time: 0.138 sec; CPU: 0.120 sec; Peak RSS: 0.020 GB\n",
      "[M::mm_idx_gen::0.080*1.02] collected minimizers\n",
      "[M::mm_idx_gen::0.112*1.01] sorted minimizers\n",
      "[M::main::0.137*1.01] loaded/built the index for 38 target sequence(s)\n",
      "[M::mm_idx_stat] kmer size: 15; skip: 10; is_hpc: 0; #seq: 38\n",
      "[M::mm_idx_stat::0.147*1.01] distinct minimizers: 395868 (98.35% are singletons); average occurrences: 1.040; average spacing: 5.336; total length: 2196734\n",
      "[M::main] Version: 2.22-r1101\n",
      "[M::main] CMD: /home/junsheng/BIN/ont-guppy/bin/minimap2 -d references/Streptococcus_parasanguinis.fna.gz.mmi references/Streptococcus_parasanguinis.fna.gz\n",
      "[M::main] Real time: 0.167 sec; CPU: 0.168 sec; Peak RSS: 0.022 GB\n",
      "[M::mm_idx_gen::0.089*1.01] collected minimizers\n",
      "[M::mm_idx_gen::0.125*1.00] sorted minimizers\n",
      "[M::main::0.149*1.00] loaded/built the index for 1 target sequence(s)\n",
      "[M::mm_idx_stat] kmer size: 15; skip: 10; is_hpc: 0; #seq: 1\n",
      "[M::mm_idx_stat::0.158*1.00] distinct minimizers: 430542 (97.88% are singletons); average occurrences: 1.034; average spacing: 5.356; total length: 2385164\n",
      "[M::main] Version: 2.22-r1101\n",
      "[M::main] CMD: /home/junsheng/BIN/ont-guppy/bin/minimap2 -d references/Bifidobacterium_longum.fna.gz.mmi references/Bifidobacterium_longum.fna.gz\n",
      "[M::main] Real time: 0.179 sec; CPU: 0.178 sec; Peak RSS: 0.026 GB\n",
      "[M::mm_idx_gen::0.066*1.02] collected minimizers\n",
      "[M::mm_idx_gen::0.110*0.89] sorted minimizers\n",
      "[M::main::0.148*0.82] loaded/built the index for 1 target sequence(s)\n",
      "[M::mm_idx_stat] kmer size: 15; skip: 10; is_hpc: 0; #seq: 1\n",
      "[M::mm_idx_stat::0.156*0.83] distinct minimizers: 347387 (98.46% are singletons); average occurrences: 1.017; average spacing: 5.352; total length: 1890857\n",
      "[M::main] Version: 2.22-r1101\n",
      "[M::main] CMD: /home/junsheng/BIN/ont-guppy/bin/minimap2 -d references/Parascardovia_denticolens.gz.mmi references/Parascardovia_denticolens.gz\n",
      "[M::main] Real time: 0.173 sec; CPU: 0.146 sec; Peak RSS: 0.019 GB\n",
      "[M::mm_idx_gen::0.101*0.96] collected minimizers\n",
      "[M::mm_idx_gen::0.136*0.99] sorted minimizers\n",
      "[M::main::0.165*0.99] loaded/built the index for 3 target sequence(s)\n",
      "[M::mm_idx_stat] kmer size: 15; skip: 10; is_hpc: 0; #seq: 3\n",
      "[M::mm_idx_stat::0.175*0.99] distinct minimizers: 446749 (97.72% are singletons); average occurrences: 1.044; average spacing: 5.341; total length: 2491058\n",
      "[M::main] Version: 2.22-r1101\n",
      "[M::main] CMD: /home/junsheng/BIN/ont-guppy/bin/minimap2 -d references/Staphylococcus_epidermidis.fna.gz.mmi references/Staphylococcus_epidermidis.fna.gz\n",
      "[M::main] Real time: 0.197 sec; CPU: 0.195 sec; Peak RSS: 0.025 GB\n",
      "[M::mm_idx_gen::0.106*0.86] collected minimizers\n",
      "[M::mm_idx_gen::0.159*0.79] sorted minimizers\n",
      "[M::main::0.189*0.81] loaded/built the index for 1 target sequence(s)\n",
      "[M::mm_idx_stat] kmer size: 15; skip: 10; is_hpc: 0; #seq: 1\n",
      "[M::mm_idx_stat::0.203*0.80] distinct minimizers: 402167 (98.29% are singletons); average occurrences: 1.019; average spacing: 5.350; total length: 2192428\n",
      "[M::main] Version: 2.22-r1101\n",
      "[M::main] CMD: /home/junsheng/BIN/ont-guppy/bin/minimap2 -d references/Bifidobacterium_adolescentis.fna.gz.mmi references/Bifidobacterium_adolescentis.fna.gz\n",
      "[M::main] Real time: 0.216 sec; CPU: 0.175 sec; Peak RSS: 0.023 GB\n",
      "[M::mm_idx_gen::0.110*1.01] collected minimizers\n",
      "[M::mm_idx_gen::0.154*0.97] sorted minimizers\n",
      "[M::main::0.193*0.92] loaded/built the index for 1 target sequence(s)\n",
      "[M::mm_idx_stat] kmer size: 15; skip: 10; is_hpc: 0; #seq: 1\n",
      "[M::mm_idx_stat::0.203*0.92] distinct minimizers: 469584 (98.12% are singletons); average occurrences: 1.041; average spacing: 5.347; total length: 2612925\n",
      "[M::main] Version: 2.22-r1101\n",
      "[M::main] CMD: /home/junsheng/BIN/ont-guppy/bin/minimap2 -d references/Capnocytophaga_ochracea.fna.gz.mmi references/Capnocytophaga_ochracea.fna.gz\n",
      "[M::main] Real time: 0.220 sec; CPU: 0.203 sec; Peak RSS: 0.027 GB\n",
      "[M::mm_idx_gen::0.116*0.98] collected minimizers\n",
      "[M::mm_idx_gen::0.149*1.03] sorted minimizers\n",
      "[M::main::0.194*0.96] loaded/built the index for 1 target sequence(s)\n",
      "[M::mm_idx_stat] kmer size: 15; skip: 10; is_hpc: 0; #seq: 1\n",
      "[M::mm_idx_stat::0.211*0.93] distinct minimizers: 506873 (98.43% are singletons); average occurrences: 1.022; average spacing: 5.473; total length: 2836123\n",
      "[M::main] Version: 2.22-r1101\n",
      "[M::main] CMD: /home/junsheng/BIN/ont-guppy/bin/minimap2 -d references/Eubacterium_siraeum.fna.gz.mmi references/Eubacterium_siraeum.fna.gz\n",
      "[M::main] Real time: 0.228 sec; CPU: 0.213 sec; Peak RSS: 0.028 GB\n",
      "[M::mm_idx_gen::0.119*0.93] collected minimizers\n",
      "[M::mm_idx_gen::0.145*1.00] sorted minimizers\n",
      "[M::main::0.192*0.90] loaded/built the index for 2 target sequence(s)\n",
      "[M::mm_idx_stat] kmer size: 15; skip: 10; is_hpc: 0; #seq: 2\n",
      "[M::mm_idx_stat::0.204*0.90] distinct minimizers: 422785 (93.93% are singletons); average occurrences: 1.087; average spacing: 5.341; total length: 2455060\n",
      "[M::main] Version: 2.22-r1101\n",
      "[M::main] CMD: /home/junsheng/BIN/ont-guppy/bin/minimap2 -d references/Fusobacterium_nucleatum.fna.gz.mmi references/Fusobacterium_nucleatum.fna.gz\n",
      "[M::main] Real time: 0.220 sec; CPU: 0.200 sec; Peak RSS: 0.024 GB\n",
      "[M::mm_idx_gen::0.144*0.79] collected minimizers\n",
      "[M::mm_idx_gen::0.183*0.86] sorted minimizers\n",
      "[M::main::0.202*0.87] loaded/built the index for 1 target sequence(s)\n",
      "[M::mm_idx_stat] kmer size: 15; skip: 10; is_hpc: 0; #seq: 1\n",
      "[M::mm_idx_stat::0.207*0.87] distinct minimizers: 390699 (97.68% are singletons); average occurrences: 1.053; average spacing: 5.339; total length: 2195659\n",
      "[M::main] Version: 2.22-r1101\n",
      "[M::main] CMD: /home/junsheng/BIN/ont-guppy/bin/minimap2 -d references/Neisseria_subflava.fna.gz.mmi references/Neisseria_subflava.fna.gz\n",
      "[M::main] Real time: 0.214 sec; CPU: 0.188 sec; Peak RSS: 0.026 GB\n",
      "[M::mm_idx_gen::0.112*0.87] collected minimizers\n",
      "[M::mm_idx_gen::0.155*0.87] sorted minimizers\n",
      "[M::main::0.177*0.86] loaded/built the index for 2 target sequence(s)\n",
      "[M::mm_idx_stat] kmer size: 15; skip: 10; is_hpc: 0; #seq: 2\n",
      "[M::mm_idx_stat::0.181*0.87] distinct minimizers: 378802 (96.68% are singletons); average occurrences: 1.039; average spacing: 5.339; total length: 2101402\n",
      "[M::main] Version: 2.22-r1101\n",
      "[M::main] CMD: /home/junsheng/BIN/ont-guppy/bin/minimap2 -d references/Helicobacter_cinaedi.fna.gz.mmi references/Helicobacter_cinaedi.fna.gz\n",
      "[M::main] Real time: 0.190 sec; CPU: 0.166 sec; Peak RSS: 0.026 GB\n",
      "[M::mm_idx_gen::0.176*0.95] collected minimizers\n",
      "[M::mm_idx_gen::0.220*1.01] sorted minimizers\n",
      "[M::main::0.249*1.01] loaded/built the index for 2 target sequence(s)\n",
      "[M::mm_idx_stat] kmer size: 15; skip: 10; is_hpc: 0; #seq: 2\n",
      "[M::mm_idx_stat::0.258*1.01] distinct minimizers: 722157 (98.17% are singletons); average occurrences: 1.031; average spacing: 5.348; total length: 3980230\n",
      "[M::main] Version: 2.22-r1101\n",
      "[M::main] CMD: /home/junsheng/BIN/ont-guppy/bin/minimap2 -d references/Acinetobacter_baumannii.fna.gz.mmi references/Acinetobacter_baumannii.fna.gz\n",
      "[M::main] Real time: 0.270 sec; CPU: 0.272 sec; Peak RSS: 0.041 GB\n",
      "[M::mm_idx_gen::0.182*0.81] collected minimizers\n",
      "[M::mm_idx_gen::0.208*0.90] sorted minimizers\n",
      "[M::main::0.235*0.92] loaded/built the index for 1 target sequence(s)\n",
      "[M::mm_idx_stat] kmer size: 15; skip: 10; is_hpc: 0; #seq: 1\n",
      "[M::mm_idx_stat::0.243*0.92] distinct minimizers: 567040 (97.21% are singletons); average occurrences: 1.045; average spacing: 5.346; total length: 3168212\n",
      "[M::main] Version: 2.22-r1101\n",
      "[M::main] CMD: /home/junsheng/BIN/ont-guppy/bin/minimap2 -d references/Prevotella_oris.fna.gz.mmi references/Prevotella_oris.fna.gz\n",
      "[M::main] Real time: 0.252 sec; CPU: 0.232 sec; Peak RSS: 0.032 GB\n",
      "[M::mm_idx_gen::0.184*1.00] collected minimizers\n",
      "[M::mm_idx_gen::0.231*1.11] sorted minimizers\n",
      "[M::main::0.265*1.09] loaded/built the index for 1 target sequence(s)\n",
      "[M::mm_idx_stat] kmer size: 15; skip: 10; is_hpc: 0; #seq: 1\n",
      "[M::mm_idx_stat::0.276*1.09] distinct minimizers: 879542 (98.10% are singletons); average occurrences: 1.030; average spacing: 5.353; total length: 4848754\n",
      "[M::main] Version: 2.22-r1101\n",
      "[M::main] CMD: /home/junsheng/BIN/ont-guppy/bin/minimap2 -d references/Enterobacter_cloacae.fna.gz.mmi references/Enterobacter_cloacae.fna.gz\n",
      "[M::main] Real time: 0.285 sec; CPU: 0.310 sec; Peak RSS: 0.046 GB\n",
      "[M::mm_idx_gen::0.096*0.77] collected minimizers\n",
      "[M::mm_idx_gen::0.109*1.00] sorted minimizers\n",
      "[M::main::0.126*1.00] loaded/built the index for 69 target sequence(s)\n",
      "[M::mm_idx_stat] kmer size: 15; skip: 10; is_hpc: 0; #seq: 69\n",
      "[M::mm_idx_stat::0.130*1.00] distinct minimizers: 386564 (98.46% are singletons); average occurrences: 1.042; average spacing: 5.349; total length: 2154690\n",
      "[M::main] Version: 2.22-r1101\n",
      "[M::main] CMD: /home/junsheng/BIN/ont-guppy/bin/minimap2 -d references/Lactobacillus_reuteri.fna.gz.mmi references/Lactobacillus_reuteri.fna.gz\n",
      "[M::main] Real time: 0.136 sec; CPU: 0.136 sec; Peak RSS: 0.023 GB\n",
      "[M::mm_idx_gen::0.077*1.05] collected minimizers\n",
      "[M::mm_idx_gen::0.088*1.26] sorted minimizers\n",
      "[M::main::0.099*1.23] loaded/built the index for 42 target sequence(s)\n",
      "[M::mm_idx_stat] kmer size: 15; skip: 10; is_hpc: 0; #seq: 42\n",
      "[M::mm_idx_stat::0.102*1.22] distinct minimizers: 335233 (97.78% are singletons); average occurrences: 1.029; average spacing: 5.328; total length: 1838801\n",
      "[M::main] Version: 2.22-r1101\n",
      "[M::main] CMD: /home/junsheng/BIN/ont-guppy/bin/minimap2 -d references/Finegoldia_magna.fna.gz.mmi references/Finegoldia_magna.fna.gz\n",
      "[M::main] Real time: 0.104 sec; CPU: 0.127 sec; Peak RSS: 0.020 GB\n",
      "[M::mm_idx_gen::0.224*0.98] collected minimizers\n",
      "[M::mm_idx_gen::0.255*1.22] sorted minimizers\n",
      "[M::main::0.298*1.19] loaded/built the index for 7 target sequence(s)\n",
      "[M::mm_idx_stat] kmer size: 15; skip: 10; is_hpc: 0; #seq: 7\n",
      "[M::mm_idx_stat::0.307*1.18] distinct minimizers: 1010854 (96.86% are singletons); average occurrences: 1.050; average spacing: 5.355; total length: 5682322\n",
      "[M::main] Version: 2.22-r1101\n",
      "[M::main] CMD: /home/junsheng/BIN/ont-guppy/bin/minimap2 -d references/Klebsiella_pneumoniae.fna.gz.mmi references/Klebsiella_pneumoniae.fna.gz\n",
      "[M::main] Real time: 0.312 sec; CPU: 0.369 sec; Peak RSS: 0.057 GB\n",
      "[M::mm_idx_gen::0.261*0.85] collected minimizers\n",
      "[M::mm_idx_gen::0.294*1.09] sorted minimizers\n",
      "[M::main::0.324*1.08] loaded/built the index for 1 target sequence(s)\n",
      "[M::mm_idx_stat] kmer size: 15; skip: 10; is_hpc: 0; #seq: 1\n",
      "[M::mm_idx_stat::0.334*1.08] distinct minimizers: 1074983 (95.27% are singletons); average occurrences: 1.070; average spacing: 5.351; total length: 6156701\n",
      "[M::main] Version: 2.22-r1101\n",
      "[M::main] CMD: /home/junsheng/BIN/ont-guppy/bin/minimap2 -d references/Pseudomonas_putida.fna.gz.mmi references/Pseudomonas_putida.fna.gz\n",
      "[M::main] Real time: 0.338 sec; CPU: 0.364 sec; Peak RSS: 0.063 GB\n"
     ]
    }
   ],
   "source": [
    "find $ref_dir -type f | parallel \"$p_long -d {}.mmi {} \""
   ]
  },
  {
   "cell_type": "markdown",
   "id": "620d322d-84da-408d-a964-8b99d6a672d5",
   "metadata": {
    "tags": []
   },
   "source": [
    "# mapping"
   ]
  },
  {
   "cell_type": "code",
   "execution_count": 11,
   "id": "a647217a-e865-4ff7-8d74-b6a2ecc857ec",
   "metadata": {},
   "outputs": [],
   "source": [
    "threads=$(cat /proc/cpuinfo | grep \"processor\" |wc -l)"
   ]
  },
  {
   "cell_type": "code",
   "execution_count": 18,
   "id": "436b5aeb-f520-41c1-939c-54869c56e5b3",
   "metadata": {
    "scrolled": true,
    "tags": []
   },
   "outputs": [
    {
     "name": "stdout",
     "output_type": "stream",
     "text": [
      "[M::main::0.015*1.03] loaded/built the index for 42 target sequence(s)\n",
      "[M::mm_mapopt_update::0.021*1.02] mid_occ = 10\n",
      "[M::mm_idx_stat] kmer size: 15; skip: 10; is_hpc: 0; #seq: 42\n",
      "[M::mm_idx_stat::0.025*1.02] distinct minimizers: 335233 (97.78% are singletons); average occurrences: 1.029; average spacing: 5.328; total length: 1838801\n",
      "[M::worker_pipeline::45.215*0.91] mapped 110709 sequences\n",
      "[M::worker_pipeline::84.298*0.91] mapped 149017 sequences\n",
      "[M::worker_pipeline::120.531*0.91] mapped 105114 sequences\n",
      "[M::worker_pipeline::161.873*0.92] mapped 85237 sequences\n",
      "[M::worker_pipeline::189.846*0.85] mapped 82586 sequences\n",
      "[M::main] Version: 2.22-r1101\n",
      "[M::main] CMD: /home/junsheng/BIN/ont-guppy/bin/minimap2 -ax map-ont -t 16 references/Finegoldia_magna.fna.gz.mmi /g2_4t_ssd/junsheng/Test_nano_illu_hybrid/OPERA_MS_GIS20_ERX3228429/original/ONT/ERR3200811.fastq\n",
      "[M::main] Real time: 190.435 sec; CPU: 161.676 sec; Peak RSS: 2.347 GB\n",
      "[M::main::0.018*1.02] loaded/built the index for 2 target sequence(s)\n",
      "[M::mm_mapopt_update::0.025*1.01] mid_occ = 10\n",
      "[M::mm_idx_stat] kmer size: 15; skip: 10; is_hpc: 0; #seq: 2\n",
      "[M::mm_idx_stat::0.031*1.00] distinct minimizers: 378802 (96.68% are singletons); average occurrences: 1.039; average spacing: 5.339; total length: 2101402\n",
      "[M::worker_pipeline::47.295*0.97] mapped 110709 sequences\n",
      "[M::worker_pipeline::88.209*0.96] mapped 149017 sequences\n",
      "[M::worker_pipeline::126.364*0.93] mapped 105114 sequences\n",
      "[M::worker_pipeline::165.259*0.95] mapped 85237 sequences\n",
      "[M::worker_pipeline::191.791*0.91] mapped 82586 sequences\n",
      "[M::main] Version: 2.22-r1101\n",
      "[M::main] CMD: /home/junsheng/BIN/ont-guppy/bin/minimap2 -ax map-ont -t 16 references/Helicobacter_cinaedi.fna.gz.mmi /g2_4t_ssd/junsheng/Test_nano_illu_hybrid/OPERA_MS_GIS20_ERX3228429/original/ONT/ERR3200811.fastq\n",
      "[M::main] Real time: 191.843 sec; CPU: 174.075 sec; Peak RSS: 2.490 GB\n",
      "[M::main::0.029*1.01] loaded/built the index for 1 target sequence(s)\n",
      "[M::mm_mapopt_update::0.039*1.00] mid_occ = 10\n",
      "[M::mm_idx_stat] kmer size: 15; skip: 10; is_hpc: 0; #seq: 1\n",
      "[M::mm_idx_stat::0.046*1.00] distinct minimizers: 506873 (98.43% are singletons); average occurrences: 1.022; average spacing: 5.473; total length: 2836123\n",
      "[M::worker_pipeline::56.582*0.91] mapped 110709 sequences\n",
      "[M::worker_pipeline::86.745*0.87] mapped 149017 sequences\n",
      "[M::worker_pipeline::136.347*0.88] mapped 105114 sequences\n",
      "[M::worker_pipeline::175.364*0.90] mapped 85237 sequences\n",
      "[M::worker_pipeline::203.515*0.84] mapped 82586 sequences\n",
      "[M::main] Version: 2.22-r1101\n",
      "[M::main] CMD: /home/junsheng/BIN/ont-guppy/bin/minimap2 -ax map-ont -t 16 references/Eubacterium_siraeum.fna.gz.mmi /g2_4t_ssd/junsheng/Test_nano_illu_hybrid/OPERA_MS_GIS20_ERX3228429/original/ONT/ERR3200811.fastq\n",
      "[M::main] Real time: 204.012 sec; CPU: 171.992 sec; Peak RSS: 2.555 GB\n",
      "[M::main::0.018*1.03] loaded/built the index for 69 target sequence(s)\n",
      "[M::mm_mapopt_update::0.026*1.02] mid_occ = 23\n",
      "[M::mm_idx_stat] kmer size: 15; skip: 10; is_hpc: 0; #seq: 69\n",
      "[M::mm_idx_stat::0.032*1.02] distinct minimizers: 386564 (98.46% are singletons); average occurrences: 1.042; average spacing: 5.349; total length: 2154690\n",
      "[M::worker_pipeline::49.663*0.90] mapped 110709 sequences\n",
      "[M::worker_pipeline::96.735*0.90] mapped 149017 sequences\n",
      "[M::worker_pipeline::141.814*0.90] mapped 105114 sequences\n",
      "[M::worker_pipeline::176.871*0.90] mapped 85237 sequences\n",
      "[M::worker_pipeline::210.869*0.86] mapped 82586 sequences\n",
      "[M::main] Version: 2.22-r1101\n",
      "[M::main] CMD: /home/junsheng/BIN/ont-guppy/bin/minimap2 -ax map-ont -t 16 references/Lactobacillus_reuteri.fna.gz.mmi /g2_4t_ssd/junsheng/Test_nano_illu_hybrid/OPERA_MS_GIS20_ERX3228429/original/ONT/ERR3200811.fastq\n",
      "[M::main] Real time: 211.325 sec; CPU: 182.017 sec; Peak RSS: 2.538 GB\n",
      "[M::main::0.023*1.02] loaded/built the index for 38 target sequence(s)\n",
      "[M::mm_mapopt_update::0.031*1.02] mid_occ = 13\n",
      "[M::mm_idx_stat] kmer size: 15; skip: 10; is_hpc: 0; #seq: 38\n",
      "[M::mm_idx_stat::0.037*1.01] distinct minimizers: 395868 (98.35% are singletons); average occurrences: 1.040; average spacing: 5.336; total length: 2196734\n",
      "[M::worker_pipeline::54.599*0.85] mapped 110709 sequences\n",
      "[M::worker_pipeline::100.054*0.87] mapped 149017 sequences\n",
      "[M::worker_pipeline::150.730*0.90] mapped 105114 sequences\n",
      "[M::worker_pipeline::189.288*0.94] mapped 85237 sequences\n",
      "[M::worker_pipeline::210.178*0.95] mapped 82586 sequences\n",
      "[M::main] Version: 2.22-r1101\n",
      "[M::main] CMD: /home/junsheng/BIN/ont-guppy/bin/minimap2 -ax map-ont -t 16 references/Streptococcus_parasanguinis.fna.gz.mmi /g2_4t_ssd/junsheng/Test_nano_illu_hybrid/OPERA_MS_GIS20_ERX3228429/original/ONT/ERR3200811.fastq\n",
      "[M::main] Real time: 210.215 sec; CPU: 200.328 sec; Peak RSS: 2.518 GB\n",
      "[M::main::0.016*1.03] loaded/built the index for 1 target sequence(s)\n",
      "[M::mm_mapopt_update::0.021*1.02] mid_occ = 10\n",
      "[M::mm_idx_stat] kmer size: 15; skip: 10; is_hpc: 0; #seq: 1\n",
      "[M::mm_idx_stat::0.025*1.02] distinct minimizers: 347387 (98.46% are singletons); average occurrences: 1.017; average spacing: 5.352; total length: 1890857\n",
      "[M::worker_pipeline::59.318*0.84] mapped 110709 sequences\n",
      "[M::worker_pipeline::99.686*0.89] mapped 149017 sequences\n",
      "[M::worker_pipeline::143.988*0.89] mapped 105114 sequences\n",
      "[M::worker_pipeline::180.836*0.90] mapped 85237 sequences\n",
      "[M::worker_pipeline::213.306*0.87] mapped 82586 sequences\n",
      "[M::main] Version: 2.22-r1101\n",
      "[M::main] CMD: /home/junsheng/BIN/ont-guppy/bin/minimap2 -ax map-ont -t 16 references/Parascardovia_denticolens.gz.mmi /g2_4t_ssd/junsheng/Test_nano_illu_hybrid/OPERA_MS_GIS20_ERX3228429/original/ONT/ERR3200811.fastq\n",
      "[M::main] Real time: 213.646 sec; CPU: 185.422 sec; Peak RSS: 2.474 GB\n",
      "[M::main::0.019*1.05] loaded/built the index for 2 target sequence(s)\n",
      "[M::mm_mapopt_update::0.025*1.03] mid_occ = 12\n",
      "[M::mm_idx_stat] kmer size: 15; skip: 10; is_hpc: 0; #seq: 2\n",
      "[M::mm_idx_stat::0.030*1.03] distinct minimizers: 324721 (98.27% are singletons); average occurrences: 1.027; average spacing: 5.366; total length: 1790058\n",
      "[M::worker_pipeline::61.333*0.86] mapped 110709 sequences\n",
      "[M::worker_pipeline::100.376*0.89] mapped 149017 sequences\n",
      "[M::worker_pipeline::144.045*0.88] mapped 105114 sequences\n",
      "[M::worker_pipeline::192.214*0.90] mapped 85237 sequences\n",
      "[M::worker_pipeline::218.146*0.87] mapped 82586 sequences\n",
      "[M::main] Version: 2.22-r1101\n",
      "[M::main] CMD: /home/junsheng/BIN/ont-guppy/bin/minimap2 -ax map-ont -t 16 references/Jonquetella_anthropi.fna.gz.mmi /g2_4t_ssd/junsheng/Test_nano_illu_hybrid/OPERA_MS_GIS20_ERX3228429/original/ONT/ERR3200811.fastq\n",
      "[M::main] Real time: 218.622 sec; CPU: 189.559 sec; Peak RSS: 2.603 GB\n",
      "[M::main::0.024*1.01] loaded/built the index for 1 target sequence(s)\n",
      "[M::mm_mapopt_update::0.035*1.01] mid_occ = 10\n",
      "[M::mm_idx_stat] kmer size: 15; skip: 10; is_hpc: 0; #seq: 1\n",
      "[M::mm_idx_stat::0.044*1.01] distinct minimizers: 567040 (97.21% are singletons); average occurrences: 1.045; average spacing: 5.346; total length: 3168212\n",
      "[M::worker_pipeline::68.400*0.84] mapped 110709 sequences\n",
      "[M::worker_pipeline::114.908*0.86] mapped 149017 sequences\n",
      "[M::worker_pipeline::167.597*0.88] mapped 105114 sequences\n",
      "[M::worker_pipeline::214.639*0.93] mapped 85237 sequences\n",
      "[M::worker_pipeline::231.210*0.94] mapped 82586 sequences\n",
      "[M::main] Version: 2.22-r1101\n",
      "[M::main] CMD: /home/junsheng/BIN/ont-guppy/bin/minimap2 -ax map-ont -t 16 references/Prevotella_oris.fna.gz.mmi /g2_4t_ssd/junsheng/Test_nano_illu_hybrid/OPERA_MS_GIS20_ERX3228429/original/ONT/ERR3200811.fastq\n",
      "[M::main] Real time: 231.237 sec; CPU: 216.439 sec; Peak RSS: 2.444 GB\n",
      "[M::main::0.025*1.00] loaded/built the index for 2 target sequence(s)\n",
      "[M::mm_mapopt_update::0.035*1.00] mid_occ = 10\n",
      "[M::mm_idx_stat] kmer size: 15; skip: 10; is_hpc: 0; #seq: 2\n",
      "[M::mm_idx_stat::0.042*0.99] distinct minimizers: 422785 (93.93% are singletons); average occurrences: 1.087; average spacing: 5.341; total length: 2455060\n",
      "[M::worker_pipeline::64.486*0.92] mapped 110709 sequences\n",
      "[M::worker_pipeline::110.136*0.94] mapped 149017 sequences\n",
      "[M::worker_pipeline::170.885*0.94] mapped 105114 sequences\n",
      "[M::worker_pipeline::212.303*0.97] mapped 85237 sequences\n",
      "[M::worker_pipeline::243.710*1.00] mapped 82586 sequences\n",
      "[M::main] Version: 2.22-r1101\n",
      "[M::main] CMD: /home/junsheng/BIN/ont-guppy/bin/minimap2 -ax map-ont -t 16 references/Fusobacterium_nucleatum.fna.gz.mmi /g2_4t_ssd/junsheng/Test_nano_illu_hybrid/OPERA_MS_GIS20_ERX3228429/original/ONT/ERR3200811.fastq\n",
      "[M::main] Real time: 243.806 sec; CPU: 242.687 sec; Peak RSS: 2.472 GB\n",
      "[M::main::0.027*1.04] loaded/built the index for 1 target sequence(s)\n",
      "[M::mm_mapopt_update::0.036*1.03] mid_occ = 10\n",
      "[M::mm_idx_stat] kmer size: 15; skip: 10; is_hpc: 0; #seq: 1\n",
      "[M::mm_idx_stat::0.044*1.02] distinct minimizers: 430542 (97.88% are singletons); average occurrences: 1.034; average spacing: 5.356; total length: 2385164\n",
      "[M::worker_pipeline::78.141*0.87] mapped 110709 sequences\n",
      "[M::worker_pipeline::138.367*0.86] mapped 149017 sequences\n",
      "[M::worker_pipeline::195.463*0.90] mapped 105114 sequences\n",
      "[M::worker_pipeline::237.581*0.97] mapped 85237 sequences\n",
      "[M::worker_pipeline::256.578*0.99] mapped 82586 sequences\n",
      "[M::main] Version: 2.22-r1101\n",
      "[M::main] CMD: /home/junsheng/BIN/ont-guppy/bin/minimap2 -ax map-ont -t 16 references/Bifidobacterium_longum.fna.gz.mmi /g2_4t_ssd/junsheng/Test_nano_illu_hybrid/OPERA_MS_GIS20_ERX3228429/original/ONT/ERR3200811.fastq\n",
      "[M::main] Real time: 256.718 sec; CPU: 254.277 sec; Peak RSS: 2.595 GB\n",
      "[M::main::0.029*0.78] loaded/built the index for 1 target sequence(s)\n",
      "[M::mm_mapopt_update::0.037*0.82] mid_occ = 14\n",
      "[M::mm_idx_stat] kmer size: 15; skip: 10; is_hpc: 0; #seq: 1\n",
      "[M::mm_idx_stat::0.044*0.84] distinct minimizers: 390699 (97.68% are singletons); average occurrences: 1.053; average spacing: 5.339; total length: 2195659\n",
      "[M::worker_pipeline::71.326*0.90] mapped 110709 sequences\n",
      "[M::worker_pipeline::130.444*0.90] mapped 149017 sequences\n",
      "[M::worker_pipeline::191.070*0.90] mapped 105114 sequences\n",
      "[M::worker_pipeline::235.255*0.97] mapped 85237 sequences\n",
      "[M::worker_pipeline::259.178*0.98] mapped 82586 sequences\n",
      "[M::main] Version: 2.22-r1101\n",
      "[M::main] CMD: /home/junsheng/BIN/ont-guppy/bin/minimap2 -ax map-ont -t 16 references/Neisseria_subflava.fna.gz.mmi /g2_4t_ssd/junsheng/Test_nano_illu_hybrid/OPERA_MS_GIS20_ERX3228429/original/ONT/ERR3200811.fastq\n",
      "[M::main] Real time: 259.549 sec; CPU: 254.772 sec; Peak RSS: 2.641 GB\n",
      "[M::main::0.020*1.01] loaded/built the index for 3 target sequence(s)\n",
      "[M::mm_mapopt_update::0.029*1.01] mid_occ = 12\n",
      "[M::mm_idx_stat] kmer size: 15; skip: 10; is_hpc: 0; #seq: 3\n",
      "[M::mm_idx_stat::0.036*1.00] distinct minimizers: 446749 (97.72% are singletons); average occurrences: 1.044; average spacing: 5.341; total length: 2491058\n",
      "[M::worker_pipeline::99.747*0.88] mapped 110709 sequences\n",
      "[M::worker_pipeline::175.648*0.86] mapped 149017 sequences\n",
      "[M::worker_pipeline::240.761*0.94] mapped 105114 sequences\n",
      "[M::worker_pipeline::280.874*1.09] mapped 85237 sequences\n",
      "[M::worker_pipeline::306.545*1.14] mapped 82586 sequences\n",
      "[M::main] Version: 2.22-r1101\n",
      "[M::main] CMD: /home/junsheng/BIN/ont-guppy/bin/minimap2 -ax map-ont -t 16 references/Staphylococcus_epidermidis.fna.gz.mmi /g2_4t_ssd/junsheng/Test_nano_illu_hybrid/OPERA_MS_GIS20_ERX3228429/original/ONT/ERR3200811.fastq\n",
      "[M::main] Real time: 306.581 sec; CPU: 349.251 sec; Peak RSS: 2.770 GB\n",
      "[M::main::0.021*1.05] loaded/built the index for 1 target sequence(s)\n",
      "[M::mm_mapopt_update::0.028*1.03] mid_occ = 10\n",
      "[M::mm_idx_stat] kmer size: 15; skip: 10; is_hpc: 0; #seq: 1\n",
      "[M::mm_idx_stat::0.033*1.03] distinct minimizers: 402167 (98.29% are singletons); average occurrences: 1.019; average spacing: 5.350; total length: 2192428\n",
      "[M::worker_pipeline::42.288*1.36] mapped 110709 sequences\n",
      "[M::worker_pipeline::66.234*1.53] mapped 149017 sequences\n",
      "[M::worker_pipeline::85.484*1.65] mapped 105114 sequences\n",
      "[M::worker_pipeline::107.591*1.74] mapped 85237 sequences\n",
      "[M::worker_pipeline::118.295*1.72] mapped 82586 sequences\n",
      "[M::main] Version: 2.22-r1101\n",
      "[M::main] CMD: /home/junsheng/BIN/ont-guppy/bin/minimap2 -ax map-ont -t 16 references/Bifidobacterium_adolescentis.fna.gz.mmi /g2_4t_ssd/junsheng/Test_nano_illu_hybrid/OPERA_MS_GIS20_ERX3228429/original/ONT/ERR3200811.fastq\n",
      "[M::main] Real time: 118.664 sec; CPU: 203.395 sec; Peak RSS: 2.572 GB\n",
      "[M::main::0.035*1.02] loaded/built the index for 2 target sequence(s)\n",
      "[M::mm_mapopt_update::0.048*1.01] mid_occ = 12\n",
      "[M::mm_idx_stat] kmer size: 15; skip: 10; is_hpc: 0; #seq: 2\n",
      "[M::mm_idx_stat::0.058*1.01] distinct minimizers: 722157 (98.17% are singletons); average occurrences: 1.031; average spacing: 5.348; total length: 3980230\n",
      "[M::worker_pipeline::118.166*0.91] mapped 110709 sequences\n",
      "[M::worker_pipeline::201.969*0.91] mapped 149017 sequences\n",
      "[M::worker_pipeline::265.565*1.07] mapped 105114 sequences\n",
      "[M::worker_pipeline::306.417*1.23] mapped 85237 sequences\n",
      "[M::worker_pipeline::332.566*1.31] mapped 82586 sequences\n",
      "[M::main] Version: 2.22-r1101\n",
      "[M::main] CMD: /home/junsheng/BIN/ont-guppy/bin/minimap2 -ax map-ont -t 16 references/Acinetobacter_baumannii.fna.gz.mmi /g2_4t_ssd/junsheng/Test_nano_illu_hybrid/OPERA_MS_GIS20_ERX3228429/original/ONT/ERR3200811.fastq\n",
      "[M::main] Real time: 332.710 sec; CPU: 435.445 sec; Peak RSS: 2.830 GB\n",
      "[M::main::0.027*0.97] loaded/built the index for 1 target sequence(s)\n",
      "[M::mm_mapopt_update::0.035*0.98] mid_occ = 18\n",
      "[M::mm_idx_stat] kmer size: 15; skip: 10; is_hpc: 0; #seq: 1\n",
      "[M::mm_idx_stat::0.042*0.96] distinct minimizers: 469584 (98.12% are singletons); average occurrences: 1.041; average spacing: 5.347; total length: 2612925\n",
      "[M::worker_pipeline::69.564*1.04] mapped 110709 sequences\n",
      "[M::worker_pipeline::95.148*1.27] mapped 149017 sequences\n",
      "[M::worker_pipeline::122.550*1.48] mapped 105114 sequences\n",
      "[M::worker_pipeline::141.330*1.72] mapped 85237 sequences\n",
      "[M::worker_pipeline::146.150*1.76] mapped 82586 sequences\n",
      "[M::main] Version: 2.22-r1101\n",
      "[M::main] CMD: /home/junsheng/BIN/ont-guppy/bin/minimap2 -ax map-ont -t 16 references/Capnocytophaga_ochracea.fna.gz.mmi /g2_4t_ssd/junsheng/Test_nano_illu_hybrid/OPERA_MS_GIS20_ERX3228429/original/ONT/ERR3200811.fastq\n",
      "[M::main] Real time: 146.203 sec; CPU: 257.470 sec; Peak RSS: 2.624 GB\n",
      "[M::main::0.051*0.99] loaded/built the index for 7 target sequence(s)\n",
      "[M::mm_mapopt_update::0.073*0.99] mid_occ = 10\n",
      "[M::mm_idx_stat] kmer size: 15; skip: 10; is_hpc: 0; #seq: 7\n",
      "[M::mm_idx_stat::0.087*0.99] distinct minimizers: 1010854 (96.86% are singletons); average occurrences: 1.050; average spacing: 5.355; total length: 5682322\n",
      "[M::worker_pipeline::174.042*0.88] mapped 110709 sequences\n",
      "[M::worker_pipeline::268.586*1.04] mapped 149017 sequences\n",
      "[M::worker_pipeline::327.697*1.29] mapped 105114 sequences\n",
      "[M::worker_pipeline::359.718*1.56] mapped 85237 sequences\n",
      "[M::worker_pipeline::380.071*1.72] mapped 82586 sequences\n",
      "[M::main] Version: 2.22-r1101\n",
      "[M::main] CMD: /home/junsheng/BIN/ont-guppy/bin/minimap2 -ax map-ont -t 16 references/Klebsiella_pneumoniae.fna.gz.mmi /g2_4t_ssd/junsheng/Test_nano_illu_hybrid/OPERA_MS_GIS20_ERX3228429/original/ONT/ERR3200811.fastq\n",
      "[M::main] Real time: 380.116 sec; CPU: 653.881 sec; Peak RSS: 3.001 GB\n",
      "[M::main::0.050*1.01] loaded/built the index for 1 target sequence(s)\n",
      "[M::mm_mapopt_update::0.069*1.01] mid_occ = 10\n",
      "[M::mm_idx_stat] kmer size: 15; skip: 10; is_hpc: 0; #seq: 1\n",
      "[M::mm_idx_stat::0.082*1.00] distinct minimizers: 879542 (98.10% are singletons); average occurrences: 1.030; average spacing: 5.353; total length: 4848754\n",
      "[M::worker_pipeline::173.579*0.91] mapped 110709 sequences\n",
      "[M::worker_pipeline::258.093*1.04] mapped 149017 sequences\n",
      "[M::worker_pipeline::321.648*1.27] mapped 105114 sequences\n",
      "[M::worker_pipeline::362.372*1.60] mapped 85237 sequences\n",
      "[M::worker_pipeline::380.989*1.75] mapped 82586 sequences\n",
      "[M::main] Version: 2.22-r1101\n",
      "[M::main] CMD: /home/junsheng/BIN/ont-guppy/bin/minimap2 -ax map-ont -t 16 references/Enterobacter_cloacae.fna.gz.mmi /g2_4t_ssd/junsheng/Test_nano_illu_hybrid/OPERA_MS_GIS20_ERX3228429/original/ONT/ERR3200811.fastq\n",
      "[M::main] Real time: 381.031 sec; CPU: 665.525 sec; Peak RSS: 2.888 GB\n",
      "[M::main::0.056*0.98] loaded/built the index for 1 target sequence(s)\n",
      "[M::mm_mapopt_update::0.080*0.94] mid_occ = 10\n",
      "[M::mm_idx_stat] kmer size: 15; skip: 10; is_hpc: 0; #seq: 1\n",
      "[M::mm_idx_stat::0.093*0.95] distinct minimizers: 1074983 (95.27% are singletons); average occurrences: 1.070; average spacing: 5.351; total length: 6156701\n",
      "[M::worker_pipeline::204.906*0.86] mapped 110709 sequences\n",
      "[M::worker_pipeline::292.377*1.09] mapped 149017 sequences\n",
      "[M::worker_pipeline::348.543*1.39] mapped 105114 sequences\n",
      "[M::worker_pipeline::383.054*1.77] mapped 85237 sequences\n",
      "[M::worker_pipeline::392.657*2.05] mapped 82586 sequences\n",
      "[M::main] Version: 2.22-r1101\n",
      "[M::main] CMD: /home/junsheng/BIN/ont-guppy/bin/minimap2 -ax map-ont -t 16 references/Pseudomonas_putida.fna.gz.mmi /g2_4t_ssd/junsheng/Test_nano_illu_hybrid/OPERA_MS_GIS20_ERX3228429/original/ONT/ERR3200811.fastq\n",
      "[M::main] Real time: 392.672 sec; CPU: 804.730 sec; Peak RSS: 2.993 GB\n"
     ]
    }
   ],
   "source": [
    "find $ref_dir -type f -name \"*.mmi\"| parallel -j 1 \"$p_long -ax map-ont -t $threads {} $reads > {}.sam \""
   ]
  },
  {
   "cell_type": "markdown",
   "id": "829e2896-771d-4d7a-b501-c7d25f151c99",
   "metadata": {},
   "source": [
    "# to bam, sort"
   ]
  },
  {
   "cell_type": "code",
   "execution_count": 54,
   "id": "dfe9f659-8e7b-4690-8319-9ac1d33f5c6b",
   "metadata": {},
   "outputs": [
    {
     "name": "stdout",
     "output_type": "stream",
     "text": [
      "[bam_sort_core] merging from 0 files and 16 in-memory blocks...\n",
      "(MAPPING) "
     ]
    },
    {
     "ename": "",
     "evalue": "1",
     "output_type": "error",
     "traceback": []
    }
   ],
   "source": [
    "find $ref_dir -type f -name \"*.sam\"|parallel -j 1 \"samtools view -uS -@$threads {}|samtools sort -@$threads -o {}.sort.bam -\""
   ]
  },
  {
   "cell_type": "markdown",
   "id": "59ac6680-05b0-4f53-8393-c21ed464f3b5",
   "metadata": {},
   "source": [
    "# index"
   ]
  },
  {
   "cell_type": "code",
   "execution_count": 55,
   "id": "c5d3f121-6707-4405-bbe0-e42a72d473c5",
   "metadata": {},
   "outputs": [
    {
     "name": "stdout",
     "output_type": "stream",
     "text": [
      "(MAPPING) "
     ]
    },
    {
     "ename": "",
     "evalue": "1",
     "output_type": "error",
     "traceback": []
    }
   ],
   "source": [
    "find $ref_dir -type f -name \"*.sort.bam\"|parallel -j 1 \"samtools index -@$threads {}\""
   ]
  },
  {
   "cell_type": "markdown",
   "id": "72339338-cde7-45dd-9615-cbff6667427a",
   "metadata": {},
   "source": [
    "# calculate depth"
   ]
  },
  {
   "cell_type": "code",
   "execution_count": 56,
   "id": "ee9d7f74-8b21-4155-89e3-14ee69219ad0",
   "metadata": {},
   "outputs": [
    {
     "name": "stdout",
     "output_type": "stream",
     "text": [
      "test/Acinetobacter_baumannii.fna.gz.mmi.sam.sort.bam\n",
      "(MAPPING) "
     ]
    },
    {
     "ename": "",
     "evalue": "1",
     "output_type": "error",
     "traceback": []
    }
   ],
   "source": [
    "find $ref_dir -type f -name \"*.sort.bam\""
   ]
  },
  {
   "cell_type": "code",
   "execution_count": 59,
   "id": "1f081b78-b975-4330-a4b2-cd9128ac1fe1",
   "metadata": {},
   "outputs": [
    {
     "name": "stdout",
     "output_type": "stream",
     "text": [
      "\n",
      "Program: samtools (Tools for alignments in the SAM format)\n",
      "Version: 1.7 (using htslib 1.7)\n",
      "\n",
      "Usage:   samtools <command> [options]\n",
      "\n",
      "Commands:\n",
      "  -- Indexing\n",
      "     dict           create a sequence dictionary file\n",
      "     faidx          index/extract FASTA\n",
      "     index          index alignment\n",
      "\n",
      "  -- Editing\n",
      "     calmd          recalculate MD/NM tags and '=' bases\n",
      "     fixmate        fix mate information\n",
      "     reheader       replace BAM header\n",
      "     targetcut      cut fosmid regions (for fosmid pool only)\n",
      "     addreplacerg   adds or replaces RG tags\n",
      "     markdup        mark duplicates\n",
      "\n",
      "  -- File operations\n",
      "     collate        shuffle and group alignments by name\n",
      "     cat            concatenate BAMs\n",
      "     merge          merge sorted alignments\n",
      "     mpileup        multi-way pileup\n",
      "     sort           sort alignment file\n",
      "     split          splits a file by read group\n",
      "     quickcheck     quickly check if SAM/BAM/CRAM file appears intact\n",
      "     fastq          converts a BAM to a FASTQ\n",
      "     fasta          converts a BAM to a FASTA\n",
      "\n",
      "  -- Statistics\n",
      "     bedcov         read depth per BED region\n",
      "     depth          compute the depth\n",
      "     flagstat       simple stats\n",
      "     idxstats       BAM index stats\n",
      "     phase          phase heterozygotes\n",
      "     stats          generate stats (former bamcheck)\n",
      "\n",
      "  -- Viewing\n",
      "     flags          explain BAM flags\n",
      "     tview          text alignment viewer\n",
      "     view           SAM<->BAM<->CRAM conversion\n",
      "     depad          convert padded BAM to unpadded BAM\n",
      "\n",
      "(MAPPING) "
     ]
    },
    {
     "ename": "",
     "evalue": "1",
     "output_type": "error",
     "traceback": []
    }
   ],
   "source": [
    "samtools"
   ]
  },
  {
   "cell_type": "code",
   "execution_count": 60,
   "id": "55c5ea43-a623-49da-9f46-303929db08d2",
   "metadata": {},
   "outputs": [
    {
     "name": "stdout",
     "output_type": "stream",
     "text": [
      "(MAPPING) "
     ]
    },
    {
     "ename": "",
     "evalue": "1",
     "output_type": "error",
     "traceback": []
    }
   ],
   "source": [
    "find $ref_dir -type f -name \"*.sort.bam\"|parallel \"samtools depth -aa {} > {}.depth\""
   ]
  },
  {
   "cell_type": "code",
   "execution_count": 61,
   "id": "69c6ff95-d5c3-4188-8613-d35621980c1a",
   "metadata": {},
   "outputs": [
    {
     "name": "stdout",
     "output_type": "stream",
     "text": [
      "(MAPPING) "
     ]
    },
    {
     "ename": "",
     "evalue": "1",
     "output_type": "error",
     "traceback": []
    }
   ],
   "source": [
    "python script_depth.py $ref_dir"
   ]
  },
  {
   "cell_type": "markdown",
   "id": "c694d3f9-1066-436e-a0ab-ed3e8e231ba9",
   "metadata": {},
   "source": [
    "# delete the temp files"
   ]
  },
  {
   "cell_type": "code",
   "execution_count": null,
   "id": "ecc1345c-190f-4ca2-a87c-008773ed694d",
   "metadata": {},
   "outputs": [],
   "source": [
    "find $"
   ]
  }
 ],
 "metadata": {
  "kernelspec": {
   "display_name": "Bash",
   "language": "bash",
   "name": "bash"
  },
  "language_info": {
   "codemirror_mode": "shell",
   "file_extension": ".sh",
   "mimetype": "text/x-sh",
   "name": "bash"
  }
 },
 "nbformat": 4,
 "nbformat_minor": 5
}
